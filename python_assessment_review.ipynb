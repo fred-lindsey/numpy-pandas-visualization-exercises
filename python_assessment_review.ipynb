{
 "cells": [
  {
   "cell_type": "markdown",
   "id": "2bf84832",
   "metadata": {},
   "source": [
    "## Control Structures"
   ]
  },
  {
   "cell_type": "code",
   "execution_count": 1,
   "id": "843f4d7c",
   "metadata": {},
   "outputs": [
    {
     "name": "stdout",
     "output_type": "stream",
     "text": [
      "Have a nice day\n"
     ]
    }
   ],
   "source": [
    "## IF\n",
    "\n",
    "it_is_raining = False\n",
    "if it_is_raining:\n",
    "    print(\"Bring an umbrella\")\n",
    "else:\n",
    "    print(\"Have a nice day\")"
   ]
  },
  {
   "cell_type": "code",
   "execution_count": 2,
   "id": "c0a7262d",
   "metadata": {},
   "outputs": [
    {
     "name": "stdout",
     "output_type": "stream",
     "text": [
      "I love medium\n"
     ]
    }
   ],
   "source": [
    "##ELIF checks multiple conditions\n",
    "\n",
    "coffee_preference = 'medium'\n",
    "\n",
    "if coffee_preference == 'dark':\n",
    "    print(\"I love dark\")\n",
    "elif coffee_preference == 'medium':\n",
    "    print(\"I love medium\")\n",
    "elif coffee_preference == 'light':\n",
    "    print('Light roast is best')\n",
    "else:\n",
    "    print(\"Tea?\")"
   ]
  },
  {
   "cell_type": "code",
   "execution_count": 6,
   "id": "8d2e5ac0",
   "metadata": {},
   "outputs": [
    {
     "name": "stdout",
     "output_type": "stream",
     "text": [
      "1\n",
      "2\n",
      "3\n",
      "a\n",
      "b\n",
      "c\n",
      "d\n",
      "e\n",
      "bash is a nice language\n",
      "python is a nice language\n",
      "clojure is a nice language\n",
      "R is a nice language\n"
     ]
    }
   ],
   "source": [
    "## For Loops\n",
    "for number in range(1, 4):\n",
    "    print(number)\n",
    "    \n",
    "for letter in 'abcde':\n",
    "    print(letter)\n",
    "    \n",
    "languages = ['bash', 'python', 'clojure', 'R']\n",
    "for programming_language in languages:\n",
    "    print(f'{programming_language} is a nice language')\n",
    "    "
   ]
  },
  {
   "cell_type": "code",
   "execution_count": 8,
   "id": "5b8442ed",
   "metadata": {},
   "outputs": [
    {
     "name": "stdout",
     "output_type": "stream",
     "text": [
      "5\n",
      "6\n",
      "7\n",
      "8\n",
      "9\n",
      "10\n"
     ]
    }
   ],
   "source": [
    "## While loops\n",
    "\n",
    "i = 5\n",
    "while i <= 10:\n",
    "    print(i)\n",
    "    i += 1"
   ]
  },
  {
   "cell_type": "code",
   "execution_count": 9,
   "id": "533ea7fa",
   "metadata": {},
   "outputs": [
    {
     "name": "stdout",
     "output_type": "stream",
     "text": [
      "0\n",
      "1\n",
      "2\n",
      "3\n",
      "4\n",
      "5\n",
      "6\n",
      "7\n",
      "8\n",
      "9\n",
      "10\n",
      "11\n"
     ]
    }
   ],
   "source": [
    "## Break stops executing a loop when a condition is met\n",
    "for n in range(100000):\n",
    "    print(n)\n",
    "    if n > 10:\n",
    "        break"
   ]
  },
  {
   "cell_type": "code",
   "execution_count": 10,
   "id": "deb97f13",
   "metadata": {},
   "outputs": [
    {
     "name": "stdout",
     "output_type": "stream",
     "text": [
      "here is an odd number: 1\n",
      "here is an odd number: 3\n",
      "here is an odd number: 5\n",
      "here is an odd number: 7\n",
      "here is an odd number: 9\n"
     ]
    }
   ],
   "source": [
    "## Continue will skip to the next iteration of a loop\n",
    "for n in range(10):\n",
    "    if n % 2 == 0:\n",
    "        continue\n",
    "    print(f'here is an odd number: {n}')"
   ]
  },
  {
   "cell_type": "markdown",
   "id": "ac122252",
   "metadata": {},
   "source": [
    "## FUNCTIONS"
   ]
  },
  {
   "cell_type": "code",
   "execution_count": 13,
   "id": "c4bbd86b",
   "metadata": {},
   "outputs": [
    {
     "name": "stdout",
     "output_type": "stream",
     "text": [
      "4\n",
      "1\n"
     ]
    }
   ],
   "source": [
    "## built in functions\n",
    "\n",
    "print(max([4, 3, 2, 1]))\n",
    "\n",
    "print(min([4, 3, 2, 1]))"
   ]
  },
  {
   "cell_type": "code",
   "execution_count": 14,
   "id": "c95c4d17",
   "metadata": {},
   "outputs": [
    {
     "name": "stdout",
     "output_type": "stream",
     "text": [
      "4\n"
     ]
    }
   ],
   "source": [
    "## Variable assignment:\n",
    "max_number = max([4, 3, 2, 1])\n",
    "print(max_number)"
   ]
  },
  {
   "cell_type": "code",
   "execution_count": 15,
   "id": "e7546085",
   "metadata": {},
   "outputs": [
    {
     "data": {
      "text/plain": [
       "4"
      ]
     },
     "execution_count": 15,
     "metadata": {},
     "output_type": "execute_result"
    }
   ],
   "source": [
    "##Defining fucntions:\n",
    "def increment(n):\n",
    "    return n + 1\n",
    "\n",
    "increment(3)"
   ]
  },
  {
   "cell_type": "code",
   "execution_count": 17,
   "id": "c93bc7ba",
   "metadata": {},
   "outputs": [
    {
     "data": {
      "text/plain": [
       "6"
      ]
     },
     "execution_count": 17,
     "metadata": {},
     "output_type": "execute_result"
    }
   ],
   "source": [
    "##Nesting\n",
    "increment(increment(increment(3)))"
   ]
  },
  {
   "cell_type": "markdown",
   "id": "74615bae",
   "metadata": {},
   "source": [
    "## IMPORTS"
   ]
  },
  {
   "cell_type": "code",
   "execution_count": 19,
   "id": "4624c506",
   "metadata": {},
   "outputs": [],
   "source": [
    "## package install in terminal\n",
    "\n",
    "#conda install (package)\n",
    "\n",
    "#pip install (package)\n",
    "\n",
    "import math\n",
    "\n",
    "import pandas as pf\n",
    "\n",
    "import numpy as np"
   ]
  },
  {
   "cell_type": "markdown",
   "id": "e492fa55",
   "metadata": {},
   "source": [
    "## DS LIBRARIES"
   ]
  },
  {
   "cell_type": "markdown",
   "id": "e705ca79",
   "metadata": {},
   "source": [
    "### MATPLOTLIB"
   ]
  },
  {
   "cell_type": "code",
   "execution_count": 20,
   "id": "04c214ac",
   "metadata": {},
   "outputs": [],
   "source": [
    "import matplotlib.pyplot as plt"
   ]
  },
  {
   "cell_type": "code",
   "execution_count": 22,
   "id": "0116ea8d",
   "metadata": {},
   "outputs": [],
   "source": [
    "%matplotlib inline \n",
    "##print in Jupyter w/o show command"
   ]
  },
  {
   "cell_type": "code",
   "execution_count": 23,
   "id": "3f62a7fc",
   "metadata": {},
   "outputs": [],
   "source": [
    "##scatter plots\n",
    "# plt.scatter(x, y)"
   ]
  },
  {
   "cell_type": "markdown",
   "id": "5249aee8",
   "metadata": {},
   "source": [
    "### NUMPY"
   ]
  },
  {
   "cell_type": "code",
   "execution_count": 24,
   "id": "9d974f3b",
   "metadata": {},
   "outputs": [],
   "source": [
    "import numpy as np"
   ]
  },
  {
   "cell_type": "markdown",
   "id": "91f3ccb7",
   "metadata": {},
   "source": [
    "- arrays"
   ]
  },
  {
   "cell_type": "code",
   "execution_count": 26,
   "id": "11ffb451",
   "metadata": {},
   "outputs": [
    {
     "data": {
      "text/plain": [
       "array([[1, 2, 3],\n",
       "       [4, 5, 6],\n",
       "       [7, 8, 9]])"
      ]
     },
     "execution_count": 26,
     "metadata": {},
     "output_type": "execute_result"
    }
   ],
   "source": [
    "matrix = np.array([[1, 2, 3],\n",
    "                   [4, 5, 6],\n",
    "                   [7, 8, 9]])\n",
    "matrix\n"
   ]
  },
  {
   "cell_type": "code",
   "execution_count": 27,
   "id": "6141d3ec",
   "metadata": {},
   "outputs": [
    {
     "data": {
      "text/plain": [
       "array([1, 2, 3])"
      ]
     },
     "execution_count": 27,
     "metadata": {},
     "output_type": "execute_result"
    }
   ],
   "source": [
    "matrix[0]"
   ]
  },
  {
   "cell_type": "code",
   "execution_count": 28,
   "id": "5c124995",
   "metadata": {},
   "outputs": [
    {
     "data": {
      "text/plain": [
       "5"
      ]
     },
     "execution_count": 28,
     "metadata": {},
     "output_type": "execute_result"
    }
   ],
   "source": [
    "matrix[1,1]"
   ]
  },
  {
   "cell_type": "code",
   "execution_count": 29,
   "id": "908e13b4",
   "metadata": {},
   "outputs": [
    {
     "data": {
      "text/plain": [
       "1"
      ]
     },
     "execution_count": 29,
     "metadata": {},
     "output_type": "execute_result"
    }
   ],
   "source": [
    "matrix[0, 0]"
   ]
  },
  {
   "cell_type": "code",
   "execution_count": 32,
   "id": "d036b96b",
   "metadata": {},
   "outputs": [
    {
     "data": {
      "text/plain": [
       "array([[1, 2, 3],\n",
       "       [7, 8, 9]])"
      ]
     },
     "execution_count": 32,
     "metadata": {},
     "output_type": "execute_result"
    }
   ],
   "source": [
    "should_include_elements = [True, False, True]\n",
    "matrix[should_include_elements]\n",
    "##removes second index"
   ]
  },
  {
   "cell_type": "markdown",
   "id": "e563f38c",
   "metadata": {},
   "source": [
    "## VECTORIZED OPERATIONS"
   ]
  },
  {
   "cell_type": "code",
   "execution_count": 33,
   "id": "1aab6681",
   "metadata": {},
   "outputs": [
    {
     "data": {
      "text/plain": [
       "array([[1, 2, 3],\n",
       "       [4, 5, 6],\n",
       "       [7, 8, 9]])"
      ]
     },
     "execution_count": 33,
     "metadata": {},
     "output_type": "execute_result"
    }
   ],
   "source": [
    "matrix"
   ]
  },
  {
   "cell_type": "code",
   "execution_count": 34,
   "id": "0349d1d8",
   "metadata": {},
   "outputs": [
    {
     "data": {
      "text/plain": [
       "array([[ 2,  3,  4],\n",
       "       [ 5,  6,  7],\n",
       "       [ 8,  9, 10]])"
      ]
     },
     "execution_count": 34,
     "metadata": {},
     "output_type": "execute_result"
    }
   ],
   "source": [
    "matrix + 1"
   ]
  },
  {
   "cell_type": "code",
   "execution_count": 35,
   "id": "718aa9d5",
   "metadata": {},
   "outputs": [
    {
     "data": {
      "text/plain": [
       "array([6, 7, 8, 9])"
      ]
     },
     "execution_count": 35,
     "metadata": {},
     "output_type": "execute_result"
    }
   ],
   "source": [
    "matrix[matrix > 5]"
   ]
  },
  {
   "cell_type": "code",
   "execution_count": 36,
   "id": "75cc4127",
   "metadata": {},
   "outputs": [
    {
     "data": {
      "text/plain": [
       "array([1, 2, 3, 4, 5, 6, 7])"
      ]
     },
     "execution_count": 36,
     "metadata": {},
     "output_type": "execute_result"
    }
   ],
   "source": [
    "matrix[matrix < 8]"
   ]
  },
  {
   "cell_type": "code",
   "execution_count": 38,
   "id": "b82dc7f3",
   "metadata": {},
   "outputs": [
    {
     "data": {
      "text/plain": [
       "array([[1, 0, 1],\n",
       "       [0, 1, 0],\n",
       "       [1, 0, 1]])"
      ]
     },
     "execution_count": 38,
     "metadata": {},
     "output_type": "execute_result"
    }
   ],
   "source": [
    "matrix % 2"
   ]
  },
  {
   "cell_type": "code",
   "execution_count": 39,
   "id": "67047949",
   "metadata": {},
   "outputs": [
    {
     "data": {
      "text/plain": [
       "array([[False,  True, False],\n",
       "       [ True, False,  True],\n",
       "       [False,  True, False]])"
      ]
     },
     "execution_count": 39,
     "metadata": {},
     "output_type": "execute_result"
    }
   ],
   "source": [
    "result = matrix % 2\n",
    "result == 0"
   ]
  },
  {
   "cell_type": "markdown",
   "id": "0f52bb6c",
   "metadata": {},
   "source": [
    "### methods"
   ]
  },
  {
   "cell_type": "markdown",
   "id": "a0925151",
   "metadata": {},
   "source": [
    ".min()/.max()/.sum()/.mean()/.std()"
   ]
  },
  {
   "cell_type": "markdown",
   "id": "f2fca977",
   "metadata": {},
   "source": [
    "## PANDAS"
   ]
  },
  {
   "cell_type": "markdown",
   "id": "7efbece7",
   "metadata": {},
   "source": [
    "### Series"
   ]
  },
  {
   "cell_type": "code",
   "execution_count": 40,
   "id": "c614dcd5",
   "metadata": {},
   "outputs": [],
   "source": [
    "import numpy as np\n",
    "import pandas as pd\n",
    "\n",
    "import matplotlib.pyplot as plt\n"
   ]
  },
  {
   "cell_type": "markdown",
   "id": "72470697",
   "metadata": {},
   "source": [
    "- creation: numbers_series = pd.Series( [ ] )"
   ]
  },
  {
   "cell_type": "markdown",
   "id": "1224e7b9",
   "metadata": {},
   "source": [
    "- labeled series: labeled_series = pd.Series({'a':0, 'b':1})"
   ]
  },
  {
   "cell_type": "markdown",
   "id": "fdbb8cd1",
   "metadata": {},
   "source": [
    "### Vectorized operations"
   ]
  },
  {
   "cell_type": "code",
   "execution_count": 41,
   "id": "b1d4b382",
   "metadata": {},
   "outputs": [
    {
     "data": {
      "text/plain": [
       "pandas.core.series.Series"
      ]
     },
     "execution_count": 41,
     "metadata": {},
     "output_type": "execute_result"
    }
   ],
   "source": [
    "numbers_series = pd.Series([100, 43, 26, 17, 17])\n",
    "type(numbers_series)"
   ]
  },
  {
   "cell_type": "code",
   "execution_count": 42,
   "id": "24e0bc93",
   "metadata": {},
   "outputs": [
    {
     "data": {
      "text/plain": [
       "0    104\n",
       "1     47\n",
       "2     30\n",
       "3     21\n",
       "4     21\n",
       "dtype: int64"
      ]
     },
     "execution_count": 42,
     "metadata": {},
     "output_type": "execute_result"
    }
   ],
   "source": [
    "numbers_series + 4"
   ]
  },
  {
   "cell_type": "code",
   "execution_count": 43,
   "id": "47fed0ce",
   "metadata": {},
   "outputs": [
    {
     "data": {
      "text/plain": [
       "0    False\n",
       "1    False\n",
       "2    False\n",
       "3    False\n",
       "4    False\n",
       "dtype: bool"
      ]
     },
     "execution_count": 43,
     "metadata": {},
     "output_type": "execute_result"
    }
   ],
   "source": [
    "numbers_series == 21"
   ]
  },
  {
   "cell_type": "code",
   "execution_count": 44,
   "id": "a9d8bea4",
   "metadata": {},
   "outputs": [
    {
     "data": {
      "text/plain": [
       "0     True\n",
       "1    False\n",
       "2    False\n",
       "3    False\n",
       "4    False\n",
       "dtype: bool"
      ]
     },
     "execution_count": 44,
     "metadata": {},
     "output_type": "execute_result"
    }
   ],
   "source": [
    "numbers_series > 50"
   ]
  },
  {
   "cell_type": "markdown",
   "id": "c8a24cfa",
   "metadata": {},
   "source": [
    "### Attributes"
   ]
  },
  {
   "cell_type": "markdown",
   "id": "0a7db7a7",
   "metadata": {},
   "source": [
    ".index/.values/.dtype/.name/.size/.shape"
   ]
  },
  {
   "cell_type": "markdown",
   "id": "f68b2a8a",
   "metadata": {},
   "source": [
    "### Methods"
   ]
  },
  {
   "cell_type": "markdown",
   "id": "71f1cac0",
   "metadata": {},
   "source": [
    ".head/.tail/.sample"
   ]
  },
  {
   "cell_type": "markdown",
   "id": "7de9aea2",
   "metadata": {},
   "source": [
    "transform the type with: .astype() >> float, int, str"
   ]
  },
  {
   "cell_type": "markdown",
   "id": "d2e624c9",
   "metadata": {},
   "source": [
    "summarize info with: .value_counts()"
   ]
  },
  {
   "cell_type": "markdown",
   "id": "653c430d",
   "metadata": {},
   "source": [
    ".describe()"
   ]
  },
  {
   "cell_type": "markdown",
   "id": "554724a8",
   "metadata": {},
   "source": [
    ".count()/.sum()/.median()/.mean()/.mode()/.abs()/.std()/.quantile()"
   ]
  },
  {
   "cell_type": "markdown",
   "id": "ce313a05",
   "metadata": {},
   "source": [
    ".nlargest(n=5, keep='first') #5 largest values, keeps only 1 duplicate"
   ]
  },
  {
   "cell_type": "markdown",
   "id": "f736d0b6",
   "metadata": {},
   "source": [
    "### DATAFRAMES"
   ]
  },
  {
   "cell_type": "markdown",
   "id": "c4ba1f9a",
   "metadata": {},
   "source": [
    "creation: df = pd.DataFrame"
   ]
  },
  {
   "cell_type": "markdown",
   "id": "3910bbb7",
   "metadata": {},
   "source": [
    "df.info()/.describe()/.dtypes/.shape/.columns/.index"
   ]
  },
  {
   "cell_type": "markdown",
   "id": "afe79954",
   "metadata": {},
   "source": [
    "- accessing multiple columns: df[['name', 'math']]"
   ]
  },
  {
   "cell_type": "markdown",
   "id": "a89e6a9f",
   "metadata": {},
   "source": [
    "- single column: df.math , df['math']"
   ]
  },
  {
   "cell_type": "markdown",
   "id": "5c9cb9e3",
   "metadata": {},
   "source": [
    "Accessing subsets:\n",
    "\n",
    "    - .head()/.tail()/.sample()\n",
    "    \n",
    "    - df.column </>/= results in a boolean\n",
    "    \n",
    "    - df[df.math < 100] will yield df rows where condition is True"
   ]
  },
  {
   "cell_type": "markdown",
   "id": "b1ab6b5e",
   "metadata": {},
   "source": [
    "DROP and RENAME:\n",
    "    \n",
    "    -df.drop(columns=['1':'2'])\n",
    "    \n",
    "    -df.rename(columns={'a','b'})"
   ]
  },
  {
   "cell_type": "markdown",
   "id": "bcf1dec1",
   "metadata": {},
   "source": [
    "## NOTES AFTER ASSESSMENT"
   ]
  },
  {
   "cell_type": "markdown",
   "id": "16f5ab1c",
   "metadata": {},
   "source": [
    "pain points: \n",
    "\n",
    "    - variable names\n",
    "    \n",
    "    - quick use of & |\n",
    "    \n",
    "    - variable setting: df =\n",
    "    \n",
    "takeaways\n",
    "\n",
    "    - slow it down\n",
    "    \n",
    "    df.value_counts() shows column names and values, so we can correctly reference variables. Use this to double check\n",
    "    \n",
    "    - use mulitple cells to break down operations into chunks"
   ]
  },
  {
   "cell_type": "code",
   "execution_count": null,
   "id": "602b8aab",
   "metadata": {},
   "outputs": [],
   "source": []
  }
 ],
 "metadata": {
  "kernelspec": {
   "display_name": "Python 3 (ipykernel)",
   "language": "python",
   "name": "python3"
  },
  "language_info": {
   "codemirror_mode": {
    "name": "ipython",
    "version": 3
   },
   "file_extension": ".py",
   "mimetype": "text/x-python",
   "name": "python",
   "nbconvert_exporter": "python",
   "pygments_lexer": "ipython3",
   "version": "3.9.7"
  }
 },
 "nbformat": 4,
 "nbformat_minor": 5
}
