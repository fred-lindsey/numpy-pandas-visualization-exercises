{
 "cells": [
  {
   "cell_type": "code",
   "execution_count": 1,
   "id": "257fff6f",
   "metadata": {},
   "outputs": [],
   "source": [
    "import numpy as np\n",
    "import pandas as pd\n",
    "\n",
    "import matplotlib.pyplot as plt"
   ]
  },
  {
   "cell_type": "code",
   "execution_count": 2,
   "id": "09a9ddf3",
   "metadata": {},
   "outputs": [],
   "source": [
    "fruit_n_berry_series = pd.Series ([\"kiwi\", \"mango\", \"strawberry\", \"pineapple\", \"gala apple\", \"honeycrisp apple\", \"tomato\", \"watermelon\", \"honeydew\", \"kiwi\", \"kiwi\", \"kiwi\", \"mango\", \"blueberry\", \"blackberry\", \"gooseberry\", \"papaya\"])"
   ]
  },
  {
   "cell_type": "markdown",
   "id": "dee09c6b",
   "metadata": {},
   "source": [
    "1. Determine the number of elements in fruits."
   ]
  },
  {
   "cell_type": "code",
   "execution_count": 3,
   "id": "2cc95069",
   "metadata": {},
   "outputs": [
    {
     "data": {
      "text/plain": [
       "17"
      ]
     },
     "execution_count": 3,
     "metadata": {},
     "output_type": "execute_result"
    }
   ],
   "source": [
    "len(fruit_n_berry_series)"
   ]
  },
  {
   "cell_type": "code",
   "execution_count": 4,
   "id": "533b171d",
   "metadata": {},
   "outputs": [
    {
     "data": {
      "text/plain": [
       "17"
      ]
     },
     "execution_count": 4,
     "metadata": {},
     "output_type": "execute_result"
    }
   ],
   "source": [
    "fruit_n_berry_series.size"
   ]
  },
  {
   "cell_type": "markdown",
   "id": "50f53844",
   "metadata": {},
   "source": [
    "2. Output only the index from fruits."
   ]
  },
  {
   "cell_type": "code",
   "execution_count": 5,
   "id": "5b5bc836",
   "metadata": {},
   "outputs": [
    {
     "data": {
      "text/plain": [
       "RangeIndex(start=0, stop=17, step=1)"
      ]
     },
     "execution_count": 5,
     "metadata": {},
     "output_type": "execute_result"
    }
   ],
   "source": [
    "fruit_n_berry_series.index"
   ]
  },
  {
   "cell_type": "markdown",
   "id": "182973be",
   "metadata": {},
   "source": [
    "3. Output only the values from fruits."
   ]
  },
  {
   "cell_type": "code",
   "execution_count": 6,
   "id": "007ceeb2",
   "metadata": {},
   "outputs": [
    {
     "data": {
      "text/plain": [
       "array(['kiwi', 'mango', 'strawberry', 'pineapple', 'gala apple',\n",
       "       'honeycrisp apple', 'tomato', 'watermelon', 'honeydew', 'kiwi',\n",
       "       'kiwi', 'kiwi', 'mango', 'blueberry', 'blackberry', 'gooseberry',\n",
       "       'papaya'], dtype=object)"
      ]
     },
     "execution_count": 6,
     "metadata": {},
     "output_type": "execute_result"
    }
   ],
   "source": [
    "fruit_n_berry_series.values"
   ]
  },
  {
   "cell_type": "markdown",
   "id": "136e420a",
   "metadata": {},
   "source": [
    "4. Confirm the data type of the values in fruits. (int, bool, etc)"
   ]
  },
  {
   "cell_type": "code",
   "execution_count": 7,
   "id": "6e1f0367",
   "metadata": {},
   "outputs": [
    {
     "data": {
      "text/plain": [
       "dtype('O')"
      ]
     },
     "execution_count": 7,
     "metadata": {},
     "output_type": "execute_result"
    }
   ],
   "source": [
    "fruit_n_berry_series.dtype"
   ]
  },
  {
   "cell_type": "markdown",
   "id": "c4e1190d",
   "metadata": {},
   "source": [
    "5. Output only the first five values from fruits. Output the last three values. Output two random values from fruits."
   ]
  },
  {
   "cell_type": "code",
   "execution_count": 8,
   "id": "e983b407",
   "metadata": {},
   "outputs": [
    {
     "data": {
      "text/plain": [
       "11          kiwi\n",
       "2     strawberry\n",
       "dtype: object"
      ]
     },
     "execution_count": 8,
     "metadata": {},
     "output_type": "execute_result"
    }
   ],
   "source": [
    "fruit_n_berry_series.head(5)\n",
    "fruit_n_berry_series.tail(3)\n",
    "fruit_n_berry_series.sample(2)"
   ]
  },
  {
   "cell_type": "markdown",
   "id": "2cea567b",
   "metadata": {},
   "source": [
    "6. Run the .describe() on fruits to see what information it returns when called on a Series with string values."
   ]
  },
  {
   "cell_type": "code",
   "execution_count": 9,
   "id": "a0ce23b8",
   "metadata": {},
   "outputs": [
    {
     "data": {
      "text/plain": [
       "count       17\n",
       "unique      13\n",
       "top       kiwi\n",
       "freq         4\n",
       "dtype: object"
      ]
     },
     "execution_count": 9,
     "metadata": {},
     "output_type": "execute_result"
    }
   ],
   "source": [
    "fruit_n_berry_series.describe()"
   ]
  },
  {
   "cell_type": "markdown",
   "id": "fbf612ba",
   "metadata": {},
   "source": [
    "7. Run the code necessary to produce only the unique string values from fruits."
   ]
  },
  {
   "cell_type": "code",
   "execution_count": 10,
   "id": "106caa9e",
   "metadata": {},
   "outputs": [
    {
     "data": {
      "text/plain": [
       "kiwi                4\n",
       "mango               2\n",
       "strawberry          1\n",
       "pineapple           1\n",
       "gala apple          1\n",
       "honeycrisp apple    1\n",
       "tomato              1\n",
       "watermelon          1\n",
       "honeydew            1\n",
       "blueberry           1\n",
       "blackberry          1\n",
       "gooseberry          1\n",
       "papaya              1\n",
       "dtype: int64"
      ]
     },
     "execution_count": 10,
     "metadata": {},
     "output_type": "execute_result"
    }
   ],
   "source": [
    "fruit_n_berry_series.value_counts()"
   ]
  },
  {
   "cell_type": "markdown",
   "id": "84a18dc9",
   "metadata": {},
   "source": [
    "8. Determine how many times each unique string value occurs in fruits."
   ]
  },
  {
   "cell_type": "code",
   "execution_count": 11,
   "id": "35897834",
   "metadata": {},
   "outputs": [
    {
     "data": {
      "text/plain": [
       "kiwi                4\n",
       "mango               2\n",
       "strawberry          1\n",
       "pineapple           1\n",
       "gala apple          1\n",
       "honeycrisp apple    1\n",
       "tomato              1\n",
       "watermelon          1\n",
       "honeydew            1\n",
       "blueberry           1\n",
       "blackberry          1\n",
       "gooseberry          1\n",
       "papaya              1\n",
       "dtype: int64"
      ]
     },
     "execution_count": 11,
     "metadata": {},
     "output_type": "execute_result"
    }
   ],
   "source": [
    "fruit_n_berry_series.value_counts()"
   ]
  },
  {
   "cell_type": "markdown",
   "id": "5f522ce8",
   "metadata": {},
   "source": [
    "9. Determine the string value that occurs most frequently in fruits."
   ]
  },
  {
   "cell_type": "code",
   "execution_count": 12,
   "id": "2ec0681a",
   "metadata": {},
   "outputs": [
    {
     "data": {
      "text/plain": [
       "kiwi    4\n",
       "dtype: int64"
      ]
     },
     "execution_count": 12,
     "metadata": {},
     "output_type": "execute_result"
    }
   ],
   "source": [
    "fruit_n_berry_series.value_counts().head(1)"
   ]
  },
  {
   "cell_type": "markdown",
   "id": "304f8ff6",
   "metadata": {},
   "source": [
    "10. Determine the string value that occurs least frequently in fruits."
   ]
  },
  {
   "cell_type": "code",
   "execution_count": 13,
   "id": "2b43d4d8",
   "metadata": {},
   "outputs": [
    {
     "data": {
      "text/plain": [
       "strawberry          1\n",
       "pineapple           1\n",
       "gala apple          1\n",
       "honeycrisp apple    1\n",
       "tomato              1\n",
       "watermelon          1\n",
       "honeydew            1\n",
       "blueberry           1\n",
       "blackberry          1\n",
       "gooseberry          1\n",
       "papaya              1\n",
       "dtype: int64"
      ]
     },
     "execution_count": 13,
     "metadata": {},
     "output_type": "execute_result"
    }
   ],
   "source": [
    "fruit_n_berry_series.value_counts().nsmallest(n = 1, keep = 'all')"
   ]
  },
  {
   "cell_type": "markdown",
   "id": "26f02588",
   "metadata": {},
   "source": [
    "## Exercises Part II\n",
    "Explore more attributes and methods while you continue to work with the fruits Series."
   ]
  },
  {
   "cell_type": "markdown",
   "id": "40ea4c0f",
   "metadata": {},
   "source": [
    "1. Capitalize all the string values in fruits"
   ]
  },
  {
   "cell_type": "code",
   "execution_count": 14,
   "id": "e48cedef",
   "metadata": {},
   "outputs": [
    {
     "data": {
      "text/plain": [
       "0                 Kiwi\n",
       "1                Mango\n",
       "2           Strawberry\n",
       "3            Pineapple\n",
       "4           Gala apple\n",
       "5     Honeycrisp apple\n",
       "6               Tomato\n",
       "7           Watermelon\n",
       "8             Honeydew\n",
       "9                 Kiwi\n",
       "10                Kiwi\n",
       "11                Kiwi\n",
       "12               Mango\n",
       "13           Blueberry\n",
       "14          Blackberry\n",
       "15          Gooseberry\n",
       "16              Papaya\n",
       "dtype: object"
      ]
     },
     "execution_count": 14,
     "metadata": {},
     "output_type": "execute_result"
    }
   ],
   "source": [
    "fruit_n_berry_series.str.capitalize()"
   ]
  },
  {
   "cell_type": "markdown",
   "id": "73380c94",
   "metadata": {},
   "source": [
    "2. Count the letter \"a\" in all the string values (use string vectorization)."
   ]
  },
  {
   "cell_type": "code",
   "execution_count": 15,
   "id": "a3df1990",
   "metadata": {},
   "outputs": [
    {
     "data": {
      "text/plain": [
       "0         kiwi\n",
       "1        mango\n",
       "1        mango\n",
       "1        mango\n",
       "3    pineapple\n",
       "1        mango\n",
       "1        mango\n",
       "1        mango\n",
       "0         kiwi\n",
       "0         kiwi\n",
       "0         kiwi\n",
       "0         kiwi\n",
       "1        mango\n",
       "0         kiwi\n",
       "1        mango\n",
       "0         kiwi\n",
       "3    pineapple\n",
       "dtype: object"
      ]
     },
     "execution_count": 15,
     "metadata": {},
     "output_type": "execute_result"
    }
   ],
   "source": [
    "fruit_n_berry_series[fruit_n_berry_series.str.count('a')]"
   ]
  },
  {
   "cell_type": "markdown",
   "id": "89cfe472",
   "metadata": {},
   "source": [
    "3. Output the number of vowels in each and every string value."
   ]
  },
  {
   "cell_type": "code",
   "execution_count": 16,
   "id": "406e9ac8",
   "metadata": {},
   "outputs": [
    {
     "data": {
      "text/plain": [
       "['a', 'e', 'i', 'o', 'u']"
      ]
     },
     "execution_count": 16,
     "metadata": {},
     "output_type": "execute_result"
    }
   ],
   "source": [
    "vowels = list('aeiou')\n",
    "vowels"
   ]
  },
  {
   "cell_type": "code",
   "execution_count": 17,
   "id": "045cb9d5",
   "metadata": {},
   "outputs": [
    {
     "data": {
      "text/plain": [
       "2          strawberry\n",
       "2          strawberry\n",
       "2          strawberry\n",
       "4          gala apple\n",
       "4          gala apple\n",
       "5    honeycrisp apple\n",
       "3           pineapple\n",
       "4          gala apple\n",
       "3           pineapple\n",
       "2          strawberry\n",
       "2          strawberry\n",
       "2          strawberry\n",
       "2          strawberry\n",
       "3           pineapple\n",
       "2          strawberry\n",
       "4          gala apple\n",
       "3           pineapple\n",
       "dtype: object"
      ]
     },
     "execution_count": 17,
     "metadata": {},
     "output_type": "execute_result"
    }
   ],
   "source": [
    "fruit_n_berry_series[fruit_n_berry_series.str.count('[aeiou]')]"
   ]
  },
  {
   "cell_type": "code",
   "execution_count": 18,
   "id": "b9e86430",
   "metadata": {},
   "outputs": [
    {
     "data": {
      "text/plain": [
       "0     False\n",
       "1     False\n",
       "2     False\n",
       "3     False\n",
       "4     False\n",
       "5     False\n",
       "6     False\n",
       "7     False\n",
       "8     False\n",
       "9     False\n",
       "10    False\n",
       "11    False\n",
       "12    False\n",
       "13    False\n",
       "14    False\n",
       "15    False\n",
       "16    False\n",
       "dtype: bool"
      ]
     },
     "execution_count": 18,
     "metadata": {},
     "output_type": "execute_result"
    }
   ],
   "source": [
    "fruit_n_berry_series.isin(vowels)"
   ]
  },
  {
   "cell_type": "markdown",
   "id": "fde8f356",
   "metadata": {},
   "source": [
    "4. Write the code to get the longest string value from fruits."
   ]
  },
  {
   "cell_type": "code",
   "execution_count": 19,
   "id": "ee216d6e",
   "metadata": {},
   "outputs": [
    {
     "data": {
      "text/plain": [
       "'honeycrisp apple'"
      ]
     },
     "execution_count": 19,
     "metadata": {},
     "output_type": "execute_result"
    }
   ],
   "source": [
    "fruit_n_berry_series[fruit_n_berry_series.str.len().idxmax()]"
   ]
  },
  {
   "cell_type": "markdown",
   "id": "c290fb1e",
   "metadata": {},
   "source": [
    "5. Write the code to get the string values with 5 or more letters in the name."
   ]
  },
  {
   "cell_type": "code",
   "execution_count": 20,
   "id": "0eb52b84",
   "metadata": {},
   "outputs": [
    {
     "data": {
      "text/plain": [
       "1                mango\n",
       "2           strawberry\n",
       "3            pineapple\n",
       "4           gala apple\n",
       "5     honeycrisp apple\n",
       "6               tomato\n",
       "7           watermelon\n",
       "8             honeydew\n",
       "12               mango\n",
       "13           blueberry\n",
       "14          blackberry\n",
       "15          gooseberry\n",
       "16              papaya\n",
       "dtype: object"
      ]
     },
     "execution_count": 20,
     "metadata": {},
     "output_type": "execute_result"
    }
   ],
   "source": [
    "fruit_n_berry_series[fruit_n_berry_series.str.len() >=5]"
   ]
  },
  {
   "cell_type": "markdown",
   "id": "46bf6d1c",
   "metadata": {},
   "source": [
    "6. Use the .apply method with a lambda function to find the fruit(s) containing the letter \"o\" two or more times."
   ]
  },
  {
   "cell_type": "code",
   "execution_count": 21,
   "id": "19040e7a",
   "metadata": {},
   "outputs": [
    {
     "data": {
      "text/plain": [
       "6         tomato\n",
       "15    gooseberry\n",
       "dtype: object"
      ]
     },
     "execution_count": 21,
     "metadata": {},
     "output_type": "execute_result"
    }
   ],
   "source": [
    "fruit_n_berry_series[fruit_n_berry_series.apply(lambda x: x.count('o') >= 2)]"
   ]
  },
  {
   "cell_type": "markdown",
   "id": "424e93bb",
   "metadata": {},
   "source": [
    "7. Write the code to get only the string values containing the substring \"berry\"."
   ]
  },
  {
   "cell_type": "code",
   "execution_count": 22,
   "id": "e29d518a",
   "metadata": {},
   "outputs": [
    {
     "data": {
      "text/plain": [
       "2     strawberry\n",
       "13     blueberry\n",
       "14    blackberry\n",
       "15    gooseberry\n",
       "dtype: object"
      ]
     },
     "execution_count": 22,
     "metadata": {},
     "output_type": "execute_result"
    }
   ],
   "source": [
    "fruit_n_berry_series[fruit_n_berry_series.str.contains(\"berry\")]"
   ]
  },
  {
   "cell_type": "markdown",
   "id": "8404fdaa",
   "metadata": {},
   "source": [
    "8. Write the code to get only the string values containing the substring \"apple\"."
   ]
  },
  {
   "cell_type": "code",
   "execution_count": 23,
   "id": "73296169",
   "metadata": {},
   "outputs": [
    {
     "data": {
      "text/plain": [
       "3           pineapple\n",
       "4          gala apple\n",
       "5    honeycrisp apple\n",
       "dtype: object"
      ]
     },
     "execution_count": 23,
     "metadata": {},
     "output_type": "execute_result"
    }
   ],
   "source": [
    "fruit_n_berry_series[fruit_n_berry_series.str.contains(\"apple\")]"
   ]
  },
  {
   "cell_type": "markdown",
   "id": "c6118935",
   "metadata": {},
   "source": [
    "9. Which string value contains the most vowels?"
   ]
  },
  {
   "cell_type": "code",
   "execution_count": 24,
   "id": "6bdad375",
   "metadata": {},
   "outputs": [
    {
     "data": {
      "text/plain": [
       "'honeycrisp apple'"
      ]
     },
     "execution_count": 24,
     "metadata": {},
     "output_type": "execute_result"
    }
   ],
   "source": [
    "fruit_n_berry_series[max(fruit_n_berry_series.str.count('[aeiou]'))]"
   ]
  },
  {
   "cell_type": "markdown",
   "id": "033c5b20",
   "metadata": {},
   "source": [
    "## Exercises part 3"
   ]
  },
  {
   "cell_type": "code",
   "execution_count": 25,
   "id": "531df816",
   "metadata": {},
   "outputs": [],
   "source": [
    "letters = pd.Series(list('hnvidduckkqxwymbimkccexbkmqygkxoyndmcxnwqarhyffsjpsrabtjzsypmzadfavyrnndndvswreauxovncxtwzpwejilzjrmmbbgbyxvjtewqthafnbkqplarokkyydtubbmnexoypulzwfhqvckdpqtpoppzqrmcvhhpwgjwupgzhiofohawytlsiyecuproguy'))"
   ]
  },
  {
   "cell_type": "code",
   "execution_count": 26,
   "id": "29512638",
   "metadata": {},
   "outputs": [
    {
     "data": {
      "text/plain": [
       "0      h\n",
       "1      n\n",
       "2      v\n",
       "3      i\n",
       "4      d\n",
       "      ..\n",
       "195    r\n",
       "196    o\n",
       "197    g\n",
       "198    u\n",
       "199    y\n",
       "Length: 200, dtype: object"
      ]
     },
     "execution_count": 26,
     "metadata": {},
     "output_type": "execute_result"
    }
   ],
   "source": [
    "letters"
   ]
  },
  {
   "cell_type": "code",
   "execution_count": 27,
   "id": "31ae49a5",
   "metadata": {},
   "outputs": [
    {
     "data": {
      "text/plain": [
       "array(['h', 'n', 'v', 'i', 'd', 'd', 'u', 'c', 'k', 'k', 'q', 'x', 'w',\n",
       "       'y', 'm', 'b', 'i', 'm', 'k', 'c', 'c', 'e', 'x', 'b', 'k', 'm',\n",
       "       'q', 'y', 'g', 'k', 'x', 'o', 'y', 'n', 'd', 'm', 'c', 'x', 'n',\n",
       "       'w', 'q', 'a', 'r', 'h', 'y', 'f', 'f', 's', 'j', 'p', 's', 'r',\n",
       "       'a', 'b', 't', 'j', 'z', 's', 'y', 'p', 'm', 'z', 'a', 'd', 'f',\n",
       "       'a', 'v', 'y', 'r', 'n', 'n', 'd', 'n', 'd', 'v', 's', 'w', 'r',\n",
       "       'e', 'a', 'u', 'x', 'o', 'v', 'n', 'c', 'x', 't', 'w', 'z', 'p',\n",
       "       'w', 'e', 'j', 'i', 'l', 'z', 'j', 'r', 'm', 'm', 'b', 'b', 'g',\n",
       "       'b', 'y', 'x', 'v', 'j', 't', 'e', 'w', 'q', 't', 'h', 'a', 'f',\n",
       "       'n', 'b', 'k', 'q', 'p', 'l', 'a', 'r', 'o', 'k', 'k', 'y', 'y',\n",
       "       'd', 't', 'u', 'b', 'b', 'm', 'n', 'e', 'x', 'o', 'y', 'p', 'u',\n",
       "       'l', 'z', 'w', 'f', 'h', 'q', 'v', 'c', 'k', 'd', 'p', 'q', 't',\n",
       "       'p', 'o', 'p', 'p', 'z', 'q', 'r', 'm', 'c', 'v', 'h', 'h', 'p',\n",
       "       'w', 'g', 'j', 'w', 'u', 'p', 'g', 'z', 'h', 'i', 'o', 'f', 'o',\n",
       "       'h', 'a', 'w', 'y', 't', 'l', 's', 'i', 'y', 'e', 'c', 'u', 'p',\n",
       "       'r', 'o', 'g', 'u', 'y'], dtype=object)"
      ]
     },
     "execution_count": 27,
     "metadata": {},
     "output_type": "execute_result"
    }
   ],
   "source": [
    "letters.values"
   ]
  },
  {
   "cell_type": "code",
   "execution_count": 28,
   "id": "2fc84da0",
   "metadata": {},
   "outputs": [
    {
     "data": {
      "text/plain": [
       "RangeIndex(start=0, stop=200, step=1)"
      ]
     },
     "execution_count": 28,
     "metadata": {},
     "output_type": "execute_result"
    }
   ],
   "source": [
    "letters.index"
   ]
  },
  {
   "cell_type": "code",
   "execution_count": 29,
   "id": "8e86f0b2",
   "metadata": {},
   "outputs": [
    {
     "data": {
      "text/plain": [
       "200"
      ]
     },
     "execution_count": 29,
     "metadata": {},
     "output_type": "execute_result"
    }
   ],
   "source": [
    "letters.size"
   ]
  },
  {
   "cell_type": "markdown",
   "id": "228f2f76",
   "metadata": {},
   "source": [
    "1. Which letter occurs the most frequently in the letters Series?"
   ]
  },
  {
   "cell_type": "code",
   "execution_count": 30,
   "id": "903a141b",
   "metadata": {},
   "outputs": [
    {
     "data": {
      "text/plain": [
       "y    13\n",
       "p    12\n",
       "w    10\n",
       "b     9\n",
       "n     9\n",
       "k     9\n",
       "m     9\n",
       "r     8\n",
       "a     8\n",
       "o     8\n",
       "h     8\n",
       "x     8\n",
       "q     8\n",
       "c     8\n",
       "d     8\n",
       "u     7\n",
       "v     7\n",
       "t     7\n",
       "z     7\n",
       "e     6\n",
       "f     6\n",
       "j     6\n",
       "g     5\n",
       "i     5\n",
       "s     5\n",
       "l     4\n",
       "dtype: int64"
      ]
     },
     "execution_count": 30,
     "metadata": {},
     "output_type": "execute_result"
    }
   ],
   "source": [
    "letters.value_counts()"
   ]
  },
  {
   "cell_type": "code",
   "execution_count": 31,
   "id": "52bf15fb",
   "metadata": {},
   "outputs": [
    {
     "data": {
      "text/plain": [
       "y    13\n",
       "dtype: int64"
      ]
     },
     "execution_count": 31,
     "metadata": {},
     "output_type": "execute_result"
    }
   ],
   "source": [
    "letters[letters.value_counts().max()]\n",
    "letters.value_counts().head(1)"
   ]
  },
  {
   "cell_type": "markdown",
   "id": "5ee86a48",
   "metadata": {},
   "source": [
    "2. Which letter occurs the Least frequently?"
   ]
  },
  {
   "cell_type": "code",
   "execution_count": 32,
   "id": "83bcb804",
   "metadata": {},
   "outputs": [
    {
     "data": {
      "text/plain": [
       "l    4\n",
       "dtype: int64"
      ]
     },
     "execution_count": 32,
     "metadata": {},
     "output_type": "execute_result"
    }
   ],
   "source": [
    "letters[letters.value_counts().min()]\n",
    "letters.value_counts().tail(1)"
   ]
  },
  {
   "cell_type": "markdown",
   "id": "aba4294d",
   "metadata": {},
   "source": [
    "3. How many vowels are in the Series?"
   ]
  },
  {
   "cell_type": "code",
   "execution_count": 47,
   "id": "e7f9cb32",
   "metadata": {},
   "outputs": [],
   "source": [
    "vowels = '[aeiou]'"
   ]
  },
  {
   "cell_type": "code",
   "execution_count": 48,
   "id": "712a9ed2",
   "metadata": {},
   "outputs": [
    {
     "data": {
      "text/plain": [
       "'[aeiou]'"
      ]
     },
     "execution_count": 48,
     "metadata": {},
     "output_type": "execute_result"
    }
   ],
   "source": [
    "vowels"
   ]
  },
  {
   "cell_type": "code",
   "execution_count": 49,
   "id": "64aca267",
   "metadata": {},
   "outputs": [
    {
     "data": {
      "text/plain": [
       "34"
      ]
     },
     "execution_count": 49,
     "metadata": {},
     "output_type": "execute_result"
    }
   ],
   "source": [
    "letters.str.count(vowels).sum()"
   ]
  },
  {
   "cell_type": "code",
   "execution_count": 39,
   "id": "79157a3c",
   "metadata": {},
   "outputs": [
    {
     "data": {
      "text/plain": [
       "'iuieoaaaaeauoeieaaoueououiooaieuou'"
      ]
     },
     "execution_count": 39,
     "metadata": {},
     "output_type": "execute_result"
    }
   ],
   "source": [
    "sum_letters = letters[letters.isin(vowels)].sum()\n",
    "sum_letters"
   ]
  },
  {
   "cell_type": "markdown",
   "id": "e37c2894",
   "metadata": {},
   "source": [
    "4. How many consonants are in the Series?"
   ]
  },
  {
   "cell_type": "code",
   "execution_count": 51,
   "id": "33c1b4df",
   "metadata": {},
   "outputs": [
    {
     "data": {
      "text/plain": [
       "'[bcdfghjklmnpqrstvwxyz]'"
      ]
     },
     "execution_count": 51,
     "metadata": {},
     "output_type": "execute_result"
    }
   ],
   "source": [
    "consonants = '[bcdfghjklmnpqrstvwxyz]'\n",
    "consonants"
   ]
  },
  {
   "cell_type": "code",
   "execution_count": 52,
   "id": "17bd4464",
   "metadata": {},
   "outputs": [
    {
     "data": {
      "text/plain": [
       "166"
      ]
     },
     "execution_count": 52,
     "metadata": {},
     "output_type": "execute_result"
    }
   ],
   "source": [
    "letters.str.count(consonants).sum()"
   ]
  },
  {
   "cell_type": "markdown",
   "id": "f119ac8c",
   "metadata": {},
   "source": [
    "5. Create a Series that has all of the same letters but uppercased"
   ]
  },
  {
   "cell_type": "code",
   "execution_count": 53,
   "id": "7e3dfe6a",
   "metadata": {},
   "outputs": [
    {
     "data": {
      "text/plain": [
       "0      H\n",
       "1      N\n",
       "2      V\n",
       "3      I\n",
       "4      D\n",
       "      ..\n",
       "195    R\n",
       "196    O\n",
       "197    G\n",
       "198    U\n",
       "199    Y\n",
       "Length: 200, dtype: object"
      ]
     },
     "execution_count": 53,
     "metadata": {},
     "output_type": "execute_result"
    }
   ],
   "source": [
    "letters.str.upper()"
   ]
  },
  {
   "cell_type": "markdown",
   "id": "dcdbbd70",
   "metadata": {},
   "source": [
    "6. Create a bar plot of six most common letters"
   ]
  },
  {
   "cell_type": "code",
   "execution_count": 56,
   "id": "d48e92ae",
   "metadata": {},
   "outputs": [
    {
     "data": {
      "text/plain": [
       "Text(0, 0.5, 'frequency')"
      ]
     },
     "execution_count": 56,
     "metadata": {},
     "output_type": "execute_result"
    },
    {
     "data": {
      "image/png": "[encoded data removed]",
      "text/plain": [
       "<Figure size 432x288 with 1 Axes>"
      ]
     },
     "metadata": {
      "needs_background": "light"
     },
     "output_type": "display_data"
    }
   ],
   "source": [
    "letters.value_counts().head(6).plot.bar()\n",
    "plt.title('6 most common letters')\n",
    "plt.xlabel('letter')\n",
    "plt.ylabel('frequency')"
   ]
  },
  {
   "cell_type": "code",
   "execution_count": 57,
   "id": "47f2a7b1",
   "metadata": {},
   "outputs": [],
   "source": [
    "n = pd.Series(['$796,459.41', '$278.60', '$482,571.67', '$4,503,915.98', '$2,121,418.3', '$1,260,813.3', '$87,231.01', '$1,509,175.45', '$4,138,548.00', '$2,848,913.80', '$594,715.39', '$4,789,988.17', '$4,513,644.5', '$3,191,059.97', '$1,758,712.24', '$4,338,283.54', '$4,738,303.38', '$2,791,759.67', '$769,681.94', '$452,650.23'])"
   ]
  },
  {
   "cell_type": "code",
   "execution_count": 58,
   "id": "fa8d758b",
   "metadata": {},
   "outputs": [
    {
     "data": {
      "text/plain": [
       "0       $796,459.41\n",
       "1           $278.60\n",
       "2       $482,571.67\n",
       "3     $4,503,915.98\n",
       "4      $2,121,418.3\n",
       "5      $1,260,813.3\n",
       "6        $87,231.01\n",
       "7     $1,509,175.45\n",
       "8     $4,138,548.00\n",
       "9     $2,848,913.80\n",
       "10      $594,715.39\n",
       "11    $4,789,988.17\n",
       "12     $4,513,644.5\n",
       "13    $3,191,059.97\n",
       "14    $1,758,712.24\n",
       "15    $4,338,283.54\n",
       "16    $4,738,303.38\n",
       "17    $2,791,759.67\n",
       "18      $769,681.94\n",
       "19      $452,650.23\n",
       "dtype: object"
      ]
     },
     "execution_count": 58,
     "metadata": {},
     "output_type": "execute_result"
    }
   ],
   "source": [
    "n"
   ]
  },
  {
   "cell_type": "code",
   "execution_count": 60,
   "id": "c9892079",
   "metadata": {},
   "outputs": [
    {
     "data": {
      "text/plain": [
       "count              20\n",
       "unique             20\n",
       "top       $796,459.41\n",
       "freq                1\n",
       "dtype: object"
      ]
     },
     "execution_count": 60,
     "metadata": {},
     "output_type": "execute_result"
    }
   ],
   "source": [
    "n.describe()"
   ]
  },
  {
   "cell_type": "code",
   "execution_count": 63,
   "id": "f1d05246",
   "metadata": {},
   "outputs": [
    {
     "data": {
      "text/plain": [
       "(20,)"
      ]
     },
     "execution_count": 63,
     "metadata": {},
     "output_type": "execute_result"
    }
   ],
   "source": [
    "n.shape"
   ]
  },
  {
   "cell_type": "code",
   "execution_count": 64,
   "id": "1715dd3f",
   "metadata": {},
   "outputs": [
    {
     "data": {
      "text/plain": [
       "20"
      ]
     },
     "execution_count": 64,
     "metadata": {},
     "output_type": "execute_result"
    }
   ],
   "source": [
    "n.size"
   ]
  },
  {
   "cell_type": "markdown",
   "id": "272b82fa",
   "metadata": {},
   "source": [
    "1. What is the data type of the numbers Series?"
   ]
  },
  {
   "cell_type": "code",
   "execution_count": 66,
   "id": "2c1e0bef",
   "metadata": {},
   "outputs": [
    {
     "data": {
      "text/plain": [
       "dtype('O')"
      ]
     },
     "execution_count": 66,
     "metadata": {},
     "output_type": "execute_result"
    }
   ],
   "source": [
    "n.dtype"
   ]
  },
  {
   "cell_type": "markdown",
   "id": "44912494",
   "metadata": {},
   "source": [
    "2. How many elements are in the number Series?"
   ]
  },
  {
   "cell_type": "code",
   "execution_count": 67,
   "id": "c457e884",
   "metadata": {},
   "outputs": [
    {
     "data": {
      "text/plain": [
       "20"
      ]
     },
     "execution_count": 67,
     "metadata": {},
     "output_type": "execute_result"
    }
   ],
   "source": [
    "n.size"
   ]
  },
  {
   "cell_type": "code",
   "execution_count": 68,
   "id": "9e5c0e01",
   "metadata": {},
   "outputs": [
    {
     "data": {
      "text/plain": [
       "(20,)"
      ]
     },
     "execution_count": 68,
     "metadata": {},
     "output_type": "execute_result"
    }
   ],
   "source": [
    "n.shape"
   ]
  },
  {
   "cell_type": "markdown",
   "id": "e9b15729",
   "metadata": {},
   "source": [
    "3. Perform the necessary manipulations by accessing Series attributes and methods to convert the numbers Series to a numeric data type."
   ]
  },
  {
   "cell_type": "code",
   "execution_count": 94,
   "id": "d271fce1",
   "metadata": {},
   "outputs": [
    {
     "name": "stderr",
     "output_type": "stream",
     "text": [
      "/var/folders/3n/86q7c8d16r51w8vg4g5kwq280000gn/T/ipykernel_14548/1150806592.py:1: FutureWarning: The default value of regex will change from True to False in a future version. In addition, single character regular expressions will *not* be treated as literal strings when regex=True.\n",
      "  n = n.str.replace('$', '')\n"
     ]
    },
    {
     "data": {
      "text/plain": [
       "0      796459.41\n",
       "1         278.60\n",
       "2      482571.67\n",
       "3     4503915.98\n",
       "4     2121418.30\n",
       "5     1260813.30\n",
       "6       87231.01\n",
       "7     1509175.45\n",
       "8     4138548.00\n",
       "9     2848913.80\n",
       "10     594715.39\n",
       "11    4789988.17\n",
       "12    4513644.50\n",
       "13    3191059.97\n",
       "14    1758712.24\n",
       "15    4338283.54\n",
       "16    4738303.38\n",
       "17    2791759.67\n",
       "18     769681.94\n",
       "19     452650.23\n",
       "dtype: float64"
      ]
     },
     "execution_count": 94,
     "metadata": {},
     "output_type": "execute_result"
    }
   ],
   "source": [
    "n = n.str.replace('$', '')\n",
    "n = n.str.replace(',', '')\n",
    "n = n.astype('float')\n",
    "n"
   ]
  },
  {
   "cell_type": "markdown",
   "id": "8eff7932",
   "metadata": {},
   "source": [
    "4. Run the code to discover the maximum value from the Series."
   ]
  },
  {
   "cell_type": "code",
   "execution_count": 95,
   "id": "9ba0c003",
   "metadata": {},
   "outputs": [
    {
     "data": {
      "text/plain": [
       "4789988.17"
      ]
     },
     "execution_count": 95,
     "metadata": {},
     "output_type": "execute_result"
    }
   ],
   "source": [
    "n.max()"
   ]
  },
  {
   "cell_type": "markdown",
   "id": "3ff4f04c",
   "metadata": {},
   "source": [
    "5. Run the code to discover the min value from the Series."
   ]
  },
  {
   "cell_type": "code",
   "execution_count": 96,
   "id": "85b9cdc6",
   "metadata": {},
   "outputs": [
    {
     "data": {
      "text/plain": [
       "278.6"
      ]
     },
     "execution_count": 96,
     "metadata": {},
     "output_type": "execute_result"
    }
   ],
   "source": [
    "n.min()"
   ]
  },
  {
   "cell_type": "markdown",
   "id": "c63fe101",
   "metadata": {},
   "source": [
    "6. What is the range of the values in the Series?"
   ]
  },
  {
   "cell_type": "code",
   "execution_count": 100,
   "id": "cbba0510",
   "metadata": {},
   "outputs": [
    {
     "data": {
      "text/plain": [
       "4789709.57"
      ]
     },
     "execution_count": 100,
     "metadata": {},
     "output_type": "execute_result"
    }
   ],
   "source": [
    "n_range = n.max() - n.min()\n",
    "n_range"
   ]
  },
  {
   "cell_type": "markdown",
   "id": "27f13f6a",
   "metadata": {},
   "source": [
    "7. Bin the data into 4 equally sized intervals or bins and output how many values fall into each bin."
   ]
  },
  {
   "cell_type": "code",
   "execution_count": 104,
   "id": "f76ddcbd",
   "metadata": {},
   "outputs": [
    {
     "data": {
      "text/plain": [
       "(-4511.111, 1197705.993]      7\n",
       "(3592560.778, 4789988.17]     6\n",
       "(1197705.993, 2395133.385]    4\n",
       "(2395133.385, 3592560.778]    3\n",
       "dtype: int64"
      ]
     },
     "execution_count": 104,
     "metadata": {},
     "output_type": "execute_result"
    }
   ],
   "source": [
    "pd.cut(n, 4) #how to cut\n",
    "n.value_counts(bins = 4) #how to group by bins"
   ]
  },
  {
   "cell_type": "markdown",
   "id": "47db7628",
   "metadata": {},
   "source": [
    "8. Plot the binned data in a meaningful way. Be sure to include a title and axis labels."
   ]
  },
  {
   "cell_type": "code",
   "execution_count": 109,
   "id": "ed617a0f",
   "metadata": {},
   "outputs": [
    {
     "data": {
      "text/plain": [
       "Text(0, 0.5, 'FQ')"
      ]
     },
     "execution_count": 109,
     "metadata": {},
     "output_type": "execute_result"
    },
    {
     "data": {
      "image/png": "[encoded data removed]",
      "text/plain": [
       "<Figure size 432x288 with 1 Axes>"
      ]
     },
     "metadata": {
      "needs_background": "light"
     },
     "output_type": "display_data"
    }
   ],
   "source": [
    "n.value_counts(bins = 4).plot.bar()\n",
    "plt.title(\"FQ Dist for Bins\")\n",
    "plt.xlabel(\"Bins\")\n",
    "plt.ylabel(\"FQ\")"
   ]
  },
  {
   "cell_type": "code",
   "execution_count": 110,
   "id": "2a52815b",
   "metadata": {},
   "outputs": [],
   "source": [
    "exam_scores = pd.Series([60, 86, 75, 62, 93, 71, 60, 83, 95, 78, 65, 72, 69, 81, 96, 80, 85, 92, 82, 78])\n"
   ]
  },
  {
   "cell_type": "code",
   "execution_count": 111,
   "id": "e6f3eb25",
   "metadata": {},
   "outputs": [
    {
     "data": {
      "text/plain": [
       "0     60\n",
       "1     86\n",
       "2     75\n",
       "3     62\n",
       "4     93\n",
       "5     71\n",
       "6     60\n",
       "7     83\n",
       "8     95\n",
       "9     78\n",
       "10    65\n",
       "11    72\n",
       "12    69\n",
       "13    81\n",
       "14    96\n",
       "15    80\n",
       "16    85\n",
       "17    92\n",
       "18    82\n",
       "19    78\n",
       "dtype: int64"
      ]
     },
     "execution_count": 111,
     "metadata": {},
     "output_type": "execute_result"
    }
   ],
   "source": [
    "exam_scores"
   ]
  },
  {
   "cell_type": "code",
   "execution_count": 115,
   "id": "3716c60a",
   "metadata": {},
   "outputs": [
    {
     "data": {
      "text/plain": [
       "count    20.000000\n",
       "mean     78.150000\n",
       "std      11.352139\n",
       "min      60.000000\n",
       "25%      70.500000\n",
       "50%      79.000000\n",
       "75%      85.250000\n",
       "max      96.000000\n",
       "dtype: float64"
      ]
     },
     "execution_count": 115,
     "metadata": {},
     "output_type": "execute_result"
    }
   ],
   "source": [
    "exam_scores.describe()"
   ]
  },
  {
   "cell_type": "markdown",
   "id": "d72b18ef",
   "metadata": {},
   "source": [
    "1.How many elements are in the exam_scores Series?"
   ]
  },
  {
   "cell_type": "code",
   "execution_count": 119,
   "id": "9c2db503",
   "metadata": {},
   "outputs": [
    {
     "data": {
      "text/plain": [
       "20"
      ]
     },
     "execution_count": 119,
     "metadata": {},
     "output_type": "execute_result"
    }
   ],
   "source": [
    "exam_scores.size"
   ]
  },
  {
   "cell_type": "markdown",
   "id": "28425e96",
   "metadata": {},
   "source": [
    "2. Run the code to discover the minimum, the maximum, the mean, and the median scores for the exam_scores Series."
   ]
  },
  {
   "cell_type": "code",
   "execution_count": 122,
   "id": "8c3dda41",
   "metadata": {},
   "outputs": [
    {
     "name": "stdout",
     "output_type": "stream",
     "text": [
      "60\n",
      "96\n",
      "78.15\n",
      "79.0\n"
     ]
    }
   ],
   "source": [
    "print(exam_scores.min())\n",
    "print(exam_scores.max())\n",
    "print(exam_scores.mean())\n",
    "print(exam_scores.median())"
   ]
  },
  {
   "cell_type": "markdown",
   "id": "fc7345f0",
   "metadata": {},
   "source": [
    "3. Plot the Series in a meaningful way and make sure your chart has a title and axis labels."
   ]
  },
  {
   "cell_type": "code",
   "execution_count": 137,
   "id": "2a165d29",
   "metadata": {},
   "outputs": [
    {
     "data": {
      "text/plain": [
       "Text(0.5, 1.0, 'Exam Scores')"
      ]
     },
     "execution_count": 137,
     "metadata": {},
     "output_type": "execute_result"
    },
    {
     "data": {
      "image/png": "[encoded data removed]",
      "text/plain": [
       "<Figure size 432x288 with 1 Axes>"
      ]
     },
     "metadata": {
      "needs_background": "light"
     },
     "output_type": "display_data"
    }
   ],
   "source": [
    "exam_scores.value_counts(bins = 6).plot.bar()\n",
    "plt.xlabel(\"score ranges\")\n",
    "plt.ylabel(\"frequency\")\n",
    "plt.title(\"Exam Scores\")"
   ]
  },
  {
   "cell_type": "markdown",
   "id": "9ace187a",
   "metadata": {},
   "source": [
    "4. Write the code necessary to implement a curve for your exam_grades Series and save this as curved_grades. Add the necessary points to the highest grade to make it 100, and add the same number of points to every other score in the Series as well."
   ]
  },
  {
   "cell_type": "code",
   "execution_count": 138,
   "id": "23a1d49a",
   "metadata": {},
   "outputs": [
    {
     "data": {
      "text/plain": [
       "4"
      ]
     },
     "execution_count": 138,
     "metadata": {},
     "output_type": "execute_result"
    }
   ],
   "source": [
    "curve = 100 - exam_scores.max()\n",
    "curve"
   ]
  },
  {
   "cell_type": "code",
   "execution_count": 139,
   "id": "c6f1956b",
   "metadata": {},
   "outputs": [
    {
     "data": {
      "text/plain": [
       "0      64\n",
       "1      90\n",
       "2      79\n",
       "3      66\n",
       "4      97\n",
       "5      75\n",
       "6      64\n",
       "7      87\n",
       "8      99\n",
       "9      82\n",
       "10     69\n",
       "11     76\n",
       "12     73\n",
       "13     85\n",
       "14    100\n",
       "15     84\n",
       "16     89\n",
       "17     96\n",
       "18     86\n",
       "19     82\n",
       "dtype: int64"
      ]
     },
     "execution_count": 139,
     "metadata": {},
     "output_type": "execute_result"
    }
   ],
   "source": [
    "curved_grades = exam_scores + curve\n",
    "curved_grades"
   ]
  },
  {
   "cell_type": "markdown",
   "id": "0769c090",
   "metadata": {},
   "source": [
    "5. Use a method to convert each of the numeric values in the curved_grades Series into a categorical value of letter grades. For example, 86 should be a 'B' and 95 should be an 'A'. Save this as a Series named letter_grades."
   ]
  },
  {
   "cell_type": "code",
   "execution_count": 140,
   "id": "40da500d",
   "metadata": {},
   "outputs": [
    {
     "ename": "SyntaxError",
     "evalue": "invalid syntax (3213296644.py, line 1)",
     "output_type": "error",
     "traceback": [
      "\u001b[0;36m  File \u001b[0;32m\"/var/folders/3n/86q7c8d16r51w8vg4g5kwq280000gn/T/ipykernel_14548/3213296644.py\"\u001b[0;36m, line \u001b[0;32m1\u001b[0m\n\u001b[0;31m    exam_scores.apply(lambda score: \"A\" if 100 > score > 89, \"B\" if 89 > score > 79, \"C\" if 79 > score > 69, \"D\" if 69 > score > 59, else \"F\")\u001b[0m\n\u001b[0m                                                           ^\u001b[0m\n\u001b[0;31mSyntaxError\u001b[0m\u001b[0;31m:\u001b[0m invalid syntax\n"
     ]
    }
   ],
   "source": [
    "exam_scores.apply(lambda score: \"A\" if 100 > score > 89, \"B\" if 89 > score > 79, \"C\" if 79 > score > 69, \"D\" if 69 > score > 59, else \"F\")\n",
    "exam_scores"
   ]
  },
  {
   "cell_type": "markdown",
   "id": "02f18fb3",
   "metadata": {},
   "source": [
    "6. Plot your new categorical letter_grades Series in a meaninful way and include a title and axis labels."
   ]
  },
  {
   "cell_type": "code",
   "execution_count": null,
   "id": "c71f1ed3",
   "metadata": {},
   "outputs": [],
   "source": []
  }
 ],
 "metadata": {
  "kernelspec": {
   "display_name": "Python 3 (ipykernel)",
   "language": "python",
   "name": "python3"
  },
  "language_info": {
   "codemirror_mode": {
    "name": "ipython",
    "version": 3
   },
   "file_extension": ".py",
   "mimetype": "text/x-python",
   "name": "python",
   "nbconvert_exporter": "python",
   "pygments_lexer": "ipython3",
   "version": "3.9.7"
  }
 },
 "nbformat": 4,
 "nbformat_minor": 5
}
