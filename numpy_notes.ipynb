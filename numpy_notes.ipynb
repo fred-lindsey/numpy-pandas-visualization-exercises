{
 "cells": [
  {
   "cell_type": "markdown",
   "id": "c0a895b5",
   "metadata": {},
   "source": [
    "## Numpy\n",
    "- for working with arrays\n",
    "- convention is to import numpy module as np"
   ]
  },
  {
   "cell_type": "code",
   "execution_count": 1,
   "id": "26c56555",
   "metadata": {},
   "outputs": [],
   "source": [
    "import numpy as np"
   ]
  },
  {
   "cell_type": "markdown",
   "id": "69589d4d",
   "metadata": {},
   "source": [
    "## Indexing"
   ]
  },
  {
   "cell_type": "markdown",
   "id": "f70e0905",
   "metadata": {},
   "source": [
    "- arrays go above and beyond what python built-in lists can do\n",
    "- created by passing a list to the np.array function"
   ]
  },
  {
   "cell_type": "code",
   "execution_count": 2,
   "id": "27af1277",
   "metadata": {},
   "outputs": [],
   "source": [
    "a = np.array([1, 2, 3])"
   ]
  },
  {
   "cell_type": "code",
   "execution_count": 3,
   "id": "df01cbd2",
   "metadata": {},
   "outputs": [
    {
     "data": {
      "text/plain": [
       "array([1, 2, 3])"
      ]
     },
     "execution_count": 3,
     "metadata": {},
     "output_type": "execute_result"
    }
   ],
   "source": [
    "a"
   ]
  },
  {
   "cell_type": "markdown",
   "id": "87609e81",
   "metadata": {},
   "source": [
    "- we can create multidimensional arrays"
   ]
  },
  {
   "cell_type": "code",
   "execution_count": 4,
   "id": "263d6325",
   "metadata": {},
   "outputs": [],
   "source": [
    "matrix = np.array([[1, 2, 3], [4, 5, 6], [7, 8, 9]])"
   ]
  },
  {
   "cell_type": "raw",
   "id": "c8c367aa",
   "metadata": {},
   "source": [
    "matrix"
   ]
  },
  {
   "cell_type": "code",
   "execution_count": 5,
   "id": "e556af3a",
   "metadata": {},
   "outputs": [
    {
     "data": {
      "text/plain": [
       "1"
      ]
     },
     "execution_count": 5,
     "metadata": {},
     "output_type": "execute_result"
    }
   ],
   "source": [
    "a[0]"
   ]
  },
  {
   "cell_type": "code",
   "execution_count": 6,
   "id": "4a892aab",
   "metadata": {},
   "outputs": [
    {
     "data": {
      "text/plain": [
       "array([1, 2, 3])"
      ]
     },
     "execution_count": 6,
     "metadata": {},
     "output_type": "execute_result"
    }
   ],
   "source": [
    "matrix[0]"
   ]
  },
  {
   "cell_type": "code",
   "execution_count": 7,
   "id": "a2c13e9f",
   "metadata": {},
   "outputs": [
    {
     "data": {
      "text/plain": [
       "array([4, 5, 6])"
      ]
     },
     "execution_count": 7,
     "metadata": {},
     "output_type": "execute_result"
    }
   ],
   "source": [
    "matrix[1]"
   ]
  },
  {
   "cell_type": "code",
   "execution_count": 8,
   "id": "b8545619",
   "metadata": {},
   "outputs": [
    {
     "data": {
      "text/plain": [
       "array([[4, 5],\n",
       "       [7, 8]])"
      ]
     },
     "execution_count": 8,
     "metadata": {},
     "output_type": "execute_result"
    }
   ],
   "source": [
    "#to get the first two elements of the last two rows:\n",
    "matrix[1:,:2] #[1: >> rows from index 1 onward, :2] elements of of rows \n",
    "# up to, not including index 2 (position 3)"
   ]
  },
  {
   "cell_type": "code",
   "execution_count": 9,
   "id": "60d75080",
   "metadata": {},
   "outputs": [
    {
     "data": {
      "text/plain": [
       "array([1, 2, 3])"
      ]
     },
     "execution_count": 9,
     "metadata": {},
     "output_type": "execute_result"
    }
   ],
   "source": [
    "a"
   ]
  },
  {
   "cell_type": "code",
   "execution_count": 10,
   "id": "f06e4e65",
   "metadata": {},
   "outputs": [
    {
     "data": {
      "text/plain": [
       "array([1, 3])"
      ]
     },
     "execution_count": 10,
     "metadata": {},
     "output_type": "execute_result"
    }
   ],
   "source": [
    "a[[True, False, True]]"
   ]
  },
  {
   "cell_type": "markdown",
   "id": "7500dc75",
   "metadata": {},
   "source": [
    "## Boolean mask"
   ]
  },
  {
   "cell_type": "code",
   "execution_count": 11,
   "id": "8bc974d7",
   "metadata": {},
   "outputs": [],
   "source": [
    "should_include_elements_a = a[[True, False, True]]"
   ]
  },
  {
   "cell_type": "code",
   "execution_count": 12,
   "id": "259ccf7d",
   "metadata": {},
   "outputs": [
    {
     "data": {
      "text/plain": [
       "array([1, 3])"
      ]
     },
     "execution_count": 12,
     "metadata": {},
     "output_type": "execute_result"
    }
   ],
   "source": [
    "should_include_elements_a"
   ]
  },
  {
   "cell_type": "markdown",
   "id": "77a7ec01",
   "metadata": {},
   "source": [
    "## Vectorized Operations\n",
    "- add 1 to every element in a list\n",
    "- easy to use\n",
    "- easy to transform >> data into boolean values"
   ]
  },
  {
   "cell_type": "code",
   "execution_count": 13,
   "id": "60236731",
   "metadata": {},
   "outputs": [
    {
     "data": {
      "text/plain": [
       "array([2, 3, 4, 5, 6])"
      ]
     },
     "execution_count": 13,
     "metadata": {},
     "output_type": "execute_result"
    }
   ],
   "source": [
    "numpy_array = np.array([1, 2, 3, 4, 5])\n",
    "numpy_array + 1"
   ]
  },
  {
   "cell_type": "code",
   "execution_count": 14,
   "id": "7a31f920",
   "metadata": {},
   "outputs": [
    {
     "name": "stdout",
     "output_type": "stream",
     "text": [
      "[3 4 5 6 7]\n"
     ]
    }
   ],
   "source": [
    "print(numpy_array + 2)"
   ]
  },
  {
   "cell_type": "code",
   "execution_count": 15,
   "id": "5f11567b",
   "metadata": {},
   "outputs": [],
   "source": [
    "my_array = np.array([-3, 0, 3, 16])"
   ]
  },
  {
   "cell_type": "code",
   "execution_count": 16,
   "id": "e9e82745",
   "metadata": {},
   "outputs": [
    {
     "name": "stdout",
     "output_type": "stream",
     "text": [
      "my_array - 5 == [-8 -5 -2 11]\n"
     ]
    }
   ],
   "source": [
    "print(f'my_array - 5 == {my_array - 5}')"
   ]
  },
  {
   "cell_type": "code",
   "execution_count": 32,
   "id": "b301465d",
   "metadata": {},
   "outputs": [
    {
     "name": "stdout",
     "output_type": "stream",
     "text": [
      "my_array >= 0 == [False  True  True  True]\n"
     ]
    }
   ],
   "source": [
    "print(f'my_array >= 0 == {my_array >= 0}') ##Boolean mask against comp ops"
   ]
  },
  {
   "cell_type": "code",
   "execution_count": 18,
   "id": "d92a8264",
   "metadata": {},
   "outputs": [
    {
     "data": {
      "text/plain": [
       "array([ 3, 16])"
      ]
     },
     "execution_count": 18,
     "metadata": {},
     "output_type": "execute_result"
    }
   ],
   "source": [
    "my_array[my_array > 0] ##conditionals >> show me which data is greater \n",
    "                        #than 0"
   ]
  },
  {
   "cell_type": "markdown",
   "id": "f1ba8950",
   "metadata": {},
   "source": [
    "## In Depth Example\n",
    "- obtain all even numbers\n",
    "- syntax notes: and = \"&\", or = \"|\""
   ]
  },
  {
   "cell_type": "code",
   "execution_count": 19,
   "id": "af396e40",
   "metadata": {},
   "outputs": [
    {
     "data": {
      "text/plain": [
       "array([ 0, 16])"
      ]
     },
     "execution_count": 19,
     "metadata": {},
     "output_type": "execute_result"
    }
   ],
   "source": [
    "my_array[my_array % 2 == 0]"
   ]
  },
  {
   "cell_type": "code",
   "execution_count": 20,
   "id": "b12979ce",
   "metadata": {},
   "outputs": [
    {
     "data": {
      "text/plain": [
       "array([1, 0, 1, 0])"
      ]
     },
     "execution_count": 20,
     "metadata": {},
     "output_type": "execute_result"
    }
   ],
   "source": [
    "my_array % 2"
   ]
  },
  {
   "cell_type": "markdown",
   "id": "558589cd",
   "metadata": {},
   "source": [
    "## Array Creation\n",
    "- standard normal distribution"
   ]
  },
  {
   "cell_type": "code",
   "execution_count": 21,
   "id": "bc4b017e",
   "metadata": {},
   "outputs": [
    {
     "data": {
      "text/plain": [
       "array([-0.48944777, -0.31240031,  0.00473631,  1.31026146,  0.81286971,\n",
       "        0.56861889, -0.28286513,  0.41354217,  1.16759673, -2.50365341])"
      ]
     },
     "execution_count": 21,
     "metadata": {},
     "output_type": "execute_result"
    }
   ],
   "source": [
    "## create random number arrays\n",
    "np.random.randn(10)\n",
    "## standard normal distribution from 1 to inf, with mean 0, std dev 1"
   ]
  },
  {
   "cell_type": "code",
   "execution_count": 22,
   "id": "99813552",
   "metadata": {},
   "outputs": [
    {
     "data": {
      "text/plain": [
       "array([[ 0.72267987,  0.29172271,  1.68151642,  0.63353565],\n",
       "       [-0.36485316, -0.67620416,  0.1194366 ,  0.72088096],\n",
       "       [ 2.14955287,  0.80811057,  0.81146385, -0.59218958]])"
      ]
     },
     "execution_count": 22,
     "metadata": {},
     "output_type": "execute_result"
    }
   ],
   "source": [
    "## create random number arrays, in two dimensions\n",
    "np.random.randn(3, 4) # 4 things in a line, 3 times"
   ]
  },
  {
   "cell_type": "markdown",
   "id": "b8f7a407",
   "metadata": {},
   "source": [
    "## np.zeroes, np.ones, np.full"
   ]
  },
  {
   "cell_type": "code",
   "execution_count": 23,
   "id": "9fd13174",
   "metadata": {},
   "outputs": [
    {
     "data": {
      "text/plain": [
       "array([0., 0., 0., 0., 0., 0., 0., 0., 0., 0.])"
      ]
     },
     "execution_count": 23,
     "metadata": {},
     "output_type": "execute_result"
    }
   ],
   "source": [
    "np.zeros(10)"
   ]
  },
  {
   "cell_type": "code",
   "execution_count": 24,
   "id": "ba964ca4",
   "metadata": {},
   "outputs": [
    {
     "data": {
      "text/plain": [
       "array([[0., 0., 0.],\n",
       "       [0., 0., 0.]])"
      ]
     },
     "execution_count": 24,
     "metadata": {},
     "output_type": "execute_result"
    }
   ],
   "source": [
    "np.zeros((2,3))"
   ]
  },
  {
   "cell_type": "code",
   "execution_count": 25,
   "id": "e30a5d60",
   "metadata": {},
   "outputs": [
    {
     "data": {
      "text/plain": [
       "array([[1., 1., 1., 1., 1., 1.],\n",
       "       [1., 1., 1., 1., 1., 1.],\n",
       "       [1., 1., 1., 1., 1., 1.],\n",
       "       [1., 1., 1., 1., 1., 1.]])"
      ]
     },
     "execution_count": 25,
     "metadata": {},
     "output_type": "execute_result"
    }
   ],
   "source": [
    "np.ones((4,6))"
   ]
  },
  {
   "cell_type": "code",
   "execution_count": 26,
   "id": "c443f998",
   "metadata": {},
   "outputs": [
    {
     "data": {
      "text/plain": [
       "array([['ASAP', 'ASAP', 'ASAP', 'ASAP'],\n",
       "       ['ASAP', 'ASAP', 'ASAP', 'ASAP'],\n",
       "       ['ASAP', 'ASAP', 'ASAP', 'ASAP']], dtype='<U4')"
      ]
     },
     "execution_count": 26,
     "metadata": {},
     "output_type": "execute_result"
    }
   ],
   "source": [
    "np.full((3,4), 'ASAP')"
   ]
  },
  {
   "cell_type": "markdown",
   "id": "b0ddddc1",
   "metadata": {},
   "source": [
    "## np.arange"
   ]
  },
  {
   "cell_type": "code",
   "execution_count": 28,
   "id": "2e40de1b",
   "metadata": {},
   "outputs": [
    {
     "data": {
      "text/plain": [
       "array([0, 1, 2, 3, 4, 5, 6, 7, 8, 9])"
      ]
     },
     "execution_count": 28,
     "metadata": {},
     "output_type": "execute_result"
    }
   ],
   "source": [
    "# can take a single argument and generate a range zero to passed num\n",
    "np.arange(10)"
   ]
  },
  {
   "cell_type": "code",
   "execution_count": 30,
   "id": "125b26f2",
   "metadata": {},
   "outputs": [
    {
     "data": {
      "text/plain": [
       "array([1. , 4.5, 8. ])"
      ]
     },
     "execution_count": 30,
     "metadata": {},
     "output_type": "execute_result"
    }
   ],
   "source": [
    "np.arange(1, 10, 3.5)"
   ]
  },
  {
   "cell_type": "markdown",
   "id": "093fc8f1",
   "metadata": {},
   "source": [
    "## np.linspace"
   ]
  },
  {
   "cell_type": "code",
   "execution_count": 31,
   "id": "934f5c0d",
   "metadata": {},
   "outputs": [
    {
     "data": {
      "text/plain": [
       "array([ 1. ,  2.5,  4. ,  5.5,  7. ,  8.5, 10. ])"
      ]
     },
     "execution_count": 31,
     "metadata": {},
     "output_type": "execute_result"
    }
   ],
   "source": [
    "#create a range of numbers between a min and a max, with a set \n",
    "#number of elements\n",
    "np.linspace(1, 10, 7)"
   ]
  },
  {
   "cell_type": "markdown",
   "id": "8df46157",
   "metadata": {},
   "source": [
    "## Array methods"
   ]
  },
  {
   "cell_type": "markdown",
   "id": "9f92382a",
   "metadata": {},
   "source": [
    "np.min()\n",
    "np.max()\n",
    "np.sum()\n",
    "np.std()"
   ]
  },
  {
   "cell_type": "code",
   "execution_count": null,
   "id": "32d5a028",
   "metadata": {},
   "outputs": [],
   "source": []
  },
  {
   "cell_type": "code",
   "execution_count": null,
   "id": "95bf38f9",
   "metadata": {},
   "outputs": [],
   "source": []
  }
 ],
 "metadata": {
  "kernelspec": {
   "display_name": "Python 3 (ipykernel)",
   "language": "python",
   "name": "python3"
  },
  "language_info": {
   "codemirror_mode": {
    "name": "ipython",
    "version": 3
   },
   "file_extension": ".py",
   "mimetype": "text/x-python",
   "name": "python",
   "nbconvert_exporter": "python",
   "pygments_lexer": "ipython3",
   "version": "3.9.7"
  }
 },
 "nbformat": 4,
 "nbformat_minor": 5
}
