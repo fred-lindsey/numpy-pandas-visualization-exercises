{
 "cells": [
  {
   "cell_type": "markdown",
   "id": "289c7333",
   "metadata": {},
   "source": [
    "## Pandas"
   ]
  },
  {
   "cell_type": "markdown",
   "id": "d81684a6",
   "metadata": {},
   "source": [
    "1. Series: 1D represenation\n",
    "2. Dataframes: 2D\n",
    "3. Advanced Dataframes"
   ]
  },
  {
   "cell_type": "markdown",
   "id": "da52abab",
   "metadata": {},
   "source": [
    "## Pandas:\n",
    "- recap:\n",
    "    python: lists, dictionaries, ranges\n",
    "    numpy: vectorized operations, boolean maks, subsetting using boolean masks\n",
    "- series:\n",
    "    Pandas\n",
    "    Indexing\n",
    "    Vectorized operations from NumPy\n",
    "- notes:\n",
    "    all objects in a pandas dataframe are the same data type (int, str, etc)\n",
    "    import as pd\n"
   ]
  },
  {
   "cell_type": "code",
   "execution_count": 1,
   "id": "132a0fe0",
   "metadata": {},
   "outputs": [],
   "source": [
    "import numpy as np\n",
    "import pandas as pd\n",
    "\n",
    "import matplotlib.pyplot as plt"
   ]
  },
  {
   "cell_type": "code",
   "execution_count": 2,
   "id": "3f5a831f",
   "metadata": {},
   "outputs": [
    {
     "data": {
      "text/plain": [
       "pandas.core.series.Series"
      ]
     },
     "execution_count": 2,
     "metadata": {},
     "output_type": "execute_result"
    }
   ],
   "source": [
    "numbers_series = pd.Series([100, 43, 26, 17, 17])\n",
    "type(numbers_series)"
   ]
  },
  {
   "cell_type": "code",
   "execution_count": 3,
   "id": "74db4b09",
   "metadata": {},
   "outputs": [
    {
     "data": {
      "text/plain": [
       "0    100\n",
       "1     43\n",
       "2     26\n",
       "3     17\n",
       "4     17\n",
       "dtype: int64"
      ]
     },
     "execution_count": 3,
     "metadata": {},
     "output_type": "execute_result"
    }
   ],
   "source": [
    "numbers_series"
   ]
  },
  {
   "cell_type": "code",
   "execution_count": 4,
   "id": "e5faba6d",
   "metadata": {},
   "outputs": [
    {
     "data": {
      "text/plain": [
       "0    3.0\n",
       "1    2.0\n",
       "2    4.5\n",
       "dtype: float64"
      ]
     },
     "execution_count": 4,
     "metadata": {},
     "output_type": "execute_result"
    }
   ],
   "source": [
    "pd.Series([3, 2, 4.5])"
   ]
  },
  {
   "cell_type": "markdown",
   "id": "c0cc327f",
   "metadata": {},
   "source": [
    "### Pandas will convert all int to float to create a uniform data type"
   ]
  },
  {
   "cell_type": "code",
   "execution_count": 5,
   "id": "b2132199",
   "metadata": {},
   "outputs": [
    {
     "data": {
      "text/plain": [
       "0    a\n",
       "1    e\n",
       "2    h\n",
       "3    d\n",
       "4    b\n",
       "5    z\n",
       "dtype: object"
      ]
     },
     "execution_count": 5,
     "metadata": {},
     "output_type": "execute_result"
    }
   ],
   "source": [
    "letters_series = pd.Series(['a', 'e', 'h', 'd', 'b', 'z'])\n",
    "letters_series"
   ]
  },
  {
   "cell_type": "markdown",
   "id": "3515c9fb",
   "metadata": {},
   "source": [
    "### Converting a dictionary into a dataframe"
   ]
  },
  {
   "cell_type": "code",
   "execution_count": 6,
   "id": "bce8dd34",
   "metadata": {},
   "outputs": [
    {
     "data": {
      "text/plain": [
       "a    0.0\n",
       "b    1.5\n",
       "c    2.0\n",
       "d    3.5\n",
       "e    4.0\n",
       "f    5.5\n",
       "dtype: float64"
      ]
     },
     "execution_count": 6,
     "metadata": {},
     "output_type": "execute_result"
    }
   ],
   "source": [
    "labeled_series = pd.Series({'a' : 0, 'b' : 1.5, 'c' : 2, 'd': 3.5, 'e': 4, 'f': 5.5})\n",
    "labeled_series"
   ]
  },
  {
   "cell_type": "markdown",
   "id": "414ea498",
   "metadata": {},
   "source": [
    "## Vectorized Operations"
   ]
  },
  {
   "cell_type": "markdown",
   "id": "e27655a1",
   "metadata": {},
   "source": [
    "### Subsetting"
   ]
  },
  {
   "cell_type": "code",
   "execution_count": 7,
   "id": "8073c08a",
   "metadata": {},
   "outputs": [
    {
     "data": {
      "text/plain": [
       "0    100\n",
       "1     43\n",
       "dtype: int64"
      ]
     },
     "execution_count": 7,
     "metadata": {},
     "output_type": "execute_result"
    }
   ],
   "source": [
    "numbers_series[numbers_series > 40]"
   ]
  },
  {
   "cell_type": "code",
   "execution_count": 8,
   "id": "cd9d5f3f",
   "metadata": {},
   "outputs": [
    {
     "data": {
      "text/plain": [
       "0    False\n",
       "1    False\n",
       "2    False\n",
       "3     True\n",
       "4     True\n",
       "dtype: bool"
      ]
     },
     "execution_count": 8,
     "metadata": {},
     "output_type": "execute_result"
    }
   ],
   "source": [
    "numbers_series == 17"
   ]
  },
  {
   "cell_type": "code",
   "execution_count": 9,
   "id": "670d7f80",
   "metadata": {},
   "outputs": [
    {
     "data": {
      "text/plain": [
       "0     True\n",
       "1     True\n",
       "2    False\n",
       "3    False\n",
       "4    False\n",
       "dtype: bool"
      ]
     },
     "execution_count": 9,
     "metadata": {},
     "output_type": "execute_result"
    }
   ],
   "source": [
    "numbers_series > 40"
   ]
  },
  {
   "cell_type": "markdown",
   "id": "fea5bed9",
   "metadata": {},
   "source": [
    "## Series Attributes"
   ]
  },
  {
   "cell_type": "code",
   "execution_count": 10,
   "id": "64b2ffbf",
   "metadata": {},
   "outputs": [],
   "source": [
    "# .index, .values, .dtype, .size, .shape, .name"
   ]
  },
  {
   "cell_type": "code",
   "execution_count": 11,
   "id": "8024dc55",
   "metadata": {},
   "outputs": [
    {
     "data": {
      "text/plain": [
       "RangeIndex(start=0, stop=5, step=1)"
      ]
     },
     "execution_count": 11,
     "metadata": {},
     "output_type": "execute_result"
    }
   ],
   "source": [
    "numbers_series.index"
   ]
  },
  {
   "cell_type": "code",
   "execution_count": 14,
   "id": "dab5c602",
   "metadata": {},
   "outputs": [
    {
     "data": {
      "text/plain": [
       "array([100,  43,  26,  17,  17])"
      ]
     },
     "execution_count": 14,
     "metadata": {},
     "output_type": "execute_result"
    }
   ],
   "source": [
    "numbers_series.values"
   ]
  },
  {
   "cell_type": "code",
   "execution_count": 15,
   "id": "9557bc14",
   "metadata": {},
   "outputs": [
    {
     "data": {
      "text/plain": [
       "dtype('int64')"
      ]
     },
     "execution_count": 15,
     "metadata": {},
     "output_type": "execute_result"
    }
   ],
   "source": [
    "numbers_series.dtype"
   ]
  },
  {
   "cell_type": "code",
   "execution_count": 16,
   "id": "37d8d846",
   "metadata": {},
   "outputs": [
    {
     "data": {
      "text/plain": [
       "5"
      ]
     },
     "execution_count": 16,
     "metadata": {},
     "output_type": "execute_result"
    }
   ],
   "source": [
    "numbers_series.size ##5 rows of data"
   ]
  },
  {
   "cell_type": "code",
   "execution_count": 17,
   "id": "ae62164d",
   "metadata": {},
   "outputs": [
    {
     "data": {
      "text/plain": [
       "(5,)"
      ]
     },
     "execution_count": 17,
     "metadata": {},
     "output_type": "execute_result"
    }
   ],
   "source": [
    "numbers_series.shape ##5 rows, no columns, 1D data"
   ]
  },
  {
   "cell_type": "code",
   "execution_count": 19,
   "id": "ccae6031",
   "metadata": {},
   "outputs": [],
   "source": [
    "numbers_series.name"
   ]
  },
  {
   "cell_type": "markdown",
   "id": "8bbb83eb",
   "metadata": {},
   "source": [
    "## Series Methods\n",
    "    .head\n",
    "    .tail\n",
    "    .sample"
   ]
  },
  {
   "cell_type": "code",
   "execution_count": 21,
   "id": "0df33edb",
   "metadata": {},
   "outputs": [
    {
     "data": {
      "text/plain": [
       "0    100\n",
       "1     43\n",
       "2     26\n",
       "3     17\n",
       "4     17\n",
       "dtype: int64"
      ]
     },
     "execution_count": 21,
     "metadata": {},
     "output_type": "execute_result"
    }
   ],
   "source": [
    "numbers_series.head()"
   ]
  },
  {
   "cell_type": "code",
   "execution_count": 22,
   "id": "84b2bbdb",
   "metadata": {},
   "outputs": [
    {
     "data": {
      "text/plain": [
       "1    43\n",
       "dtype: int64"
      ]
     },
     "execution_count": 22,
     "metadata": {},
     "output_type": "execute_result"
    }
   ],
   "source": [
    "numbers_series.sample()"
   ]
  },
  {
   "cell_type": "code",
   "execution_count": 23,
   "id": "d8fc3ade",
   "metadata": {},
   "outputs": [
    {
     "data": {
      "text/plain": [
       "0    3\n",
       "1    4\n",
       "2    5\n",
       "3    6\n",
       "dtype: object"
      ]
     },
     "execution_count": 23,
     "metadata": {},
     "output_type": "execute_result"
    }
   ],
   "source": [
    "num_strings = pd.Series([3, 4, 5, 6]).astype('str')\n",
    "num_strings"
   ]
  },
  {
   "cell_type": "code",
   "execution_count": 24,
   "id": "d3045874",
   "metadata": {},
   "outputs": [
    {
     "data": {
      "text/plain": [
       "0    3.0\n",
       "1    4.0\n",
       "2    5.0\n",
       "3    6.0\n",
       "dtype: float64"
      ]
     },
     "execution_count": 24,
     "metadata": {},
     "output_type": "execute_result"
    }
   ],
   "source": [
    "floats = pd.Series([3, 4, 5, 6]).astype('float')\n",
    "floats"
   ]
  },
  {
   "cell_type": "code",
   "execution_count": 25,
   "id": "17f3815d",
   "metadata": {},
   "outputs": [
    {
     "data": {
      "text/plain": [
       "0    3\n",
       "1    4\n",
       "2    5\n",
       "3    6\n",
       "dtype: int64"
      ]
     },
     "execution_count": 25,
     "metadata": {},
     "output_type": "execute_result"
    }
   ],
   "source": [
    "floats.astype('int')"
   ]
  },
  {
   "cell_type": "markdown",
   "id": "f724e976",
   "metadata": {},
   "source": [
    "## .value_counts\n",
    "- returns a new series of a labeled index representing unique values from the dataset"
   ]
  },
  {
   "cell_type": "code",
   "execution_count": 31,
   "id": "7485c521",
   "metadata": {},
   "outputs": [
    {
     "data": {
      "text/plain": [
       "a    4\n",
       "b    2\n",
       "c    1\n",
       "d    1\n",
       "dtype: int64"
      ]
     },
     "execution_count": 31,
     "metadata": {},
     "output_type": "execute_result"
    }
   ],
   "source": [
    "pd.Series(['a', 'b', 'a', 'c', 'b', 'a', 'd', 'a']).value_counts()"
   ]
  },
  {
   "cell_type": "markdown",
   "id": "ee801944",
   "metadata": {},
   "source": [
    "## .describe\n",
    "- returns descriptive stats on a panda series"
   ]
  },
  {
   "cell_type": "markdown",
   "id": "e62869cd",
   "metadata": {},
   "source": [
    "### additionally:\n",
    ".count, .sum, .mean, .median, .min, .max, .mode, .abs, .std, .quantile"
   ]
  },
  {
   "cell_type": "markdown",
   "id": "97af459b",
   "metadata": {},
   "source": [
    "### nlargest, .nsmallest\n",
    "    - n = the number of rows to return\n"
   ]
  },
  {
   "cell_type": "code",
   "execution_count": 34,
   "id": "e86093eb",
   "metadata": {},
   "outputs": [
    {
     "data": {
      "text/plain": [
       "0    100\n",
       "1     43\n",
       "2     26\n",
       "3     17\n",
       "4     17\n",
       "dtype: int64"
      ]
     },
     "execution_count": 34,
     "metadata": {},
     "output_type": "execute_result"
    }
   ],
   "source": [
    "numbers_series.nlargest(n = 5, keep = 'last')"
   ]
  },
  {
   "cell_type": "markdown",
   "id": "4a75cd3d",
   "metadata": {},
   "source": [
    "## .sort_values, .sort_index"
   ]
  },
  {
   "cell_type": "code",
   "execution_count": 36,
   "id": "48c38d06",
   "metadata": {},
   "outputs": [
    {
     "data": {
      "text/plain": [
       "3     17\n",
       "4     17\n",
       "2     26\n",
       "1     43\n",
       "0    100\n",
       "dtype: int64"
      ]
     },
     "execution_count": 36,
     "metadata": {},
     "output_type": "execute_result"
    }
   ],
   "source": [
    "numbers_series.sort_values()"
   ]
  },
  {
   "cell_type": "code",
   "execution_count": 37,
   "id": "ad6596cd",
   "metadata": {},
   "outputs": [
    {
     "data": {
      "text/plain": [
       "0    100\n",
       "1     43\n",
       "2     26\n",
       "3     17\n",
       "4     17\n",
       "dtype: int64"
      ]
     },
     "execution_count": 37,
     "metadata": {},
     "output_type": "execute_result"
    }
   ],
   "source": [
    "numbers_series.sort_index()"
   ]
  },
  {
   "cell_type": "markdown",
   "id": "2f7dbcaa",
   "metadata": {},
   "source": [
    "## Indexing and Subsetting\n",
    "- run masks, other filters"
   ]
  },
  {
   "cell_type": "code",
   "execution_count": 2,
   "id": "2d672ea5",
   "metadata": {},
   "outputs": [
    {
     "ename": "NameError",
     "evalue": "name 'pd' is not defined",
     "output_type": "error",
     "traceback": [
      "\u001b[0;31m---------------------------------------------------------------------------\u001b[0m",
      "\u001b[0;31mNameError\u001b[0m                                 Traceback (most recent call last)",
      "\u001b[0;32m/var/folders/3n/86q7c8d16r51w8vg4g5kwq280000gn/T/ipykernel_38414/1916575477.py\u001b[0m in \u001b[0;36m<module>\u001b[0;34m\u001b[0m\n\u001b[0;32m----> 1\u001b[0;31m \u001b[0mnumbers_series\u001b[0m \u001b[0;34m=\u001b[0m \u001b[0mpd\u001b[0m\u001b[0;34m.\u001b[0m\u001b[0mSeries\u001b[0m\u001b[0;34m(\u001b[0m\u001b[0;34m[\u001b[0m\u001b[0;36m100\u001b[0m\u001b[0;34m,\u001b[0m \u001b[0;36m43\u001b[0m\u001b[0;34m,\u001b[0m \u001b[0;36m26\u001b[0m\u001b[0;34m,\u001b[0m \u001b[0;36m17\u001b[0m\u001b[0;34m,\u001b[0m \u001b[0;36m17\u001b[0m\u001b[0;34m]\u001b[0m\u001b[0;34m)\u001b[0m\u001b[0;34m\u001b[0m\u001b[0;34m\u001b[0m\u001b[0m\n\u001b[0m\u001b[1;32m      2\u001b[0m \u001b[0mtype\u001b[0m\u001b[0;34m(\u001b[0m\u001b[0mnumbers_series\u001b[0m\u001b[0;34m)\u001b[0m\u001b[0;34m\u001b[0m\u001b[0;34m\u001b[0m\u001b[0m\n\u001b[1;32m      3\u001b[0m \u001b[0;34m\u001b[0m\u001b[0m\n\u001b[1;32m      4\u001b[0m \u001b[0;34m\u001b[0m\u001b[0m\n\u001b[1;32m      5\u001b[0m \u001b[0;31m# In[33]:\u001b[0m\u001b[0;34m\u001b[0m\u001b[0;34m\u001b[0m\u001b[0m\n",
      "\u001b[0;31mNameError\u001b[0m: name 'pd' is not defined"
     ]
    }
   ],
   "source": [
    "numbers_series = pd.Series([100, 43, 26, 17, 17])\n",
    "type(numbers_series)\n",
    "\n",
    "\n",
    "# In[33]:"
   ]
  },
  {
   "cell_type": "code",
   "execution_count": 39,
   "id": "c3d13589",
   "metadata": {},
   "outputs": [
    {
     "data": {
      "text/plain": [
       "0     True\n",
       "1     True\n",
       "2    False\n",
       "3    False\n",
       "4    False\n",
       "dtype: bool"
      ]
     },
     "execution_count": 39,
     "metadata": {},
     "output_type": "execute_result"
    }
   ],
   "source": [
    "numbers_series\n",
    "\n",
    "\n",
    "# In[34]:\n",
    "\n",
    "\n",
    "bools = numbers_series > 40\n",
    "bools"
   ]
  },
  {
   "cell_type": "code",
   "execution_count": 40,
   "id": "8d02f037",
   "metadata": {},
   "outputs": [
    {
     "data": {
      "text/plain": [
       "0    100\n",
       "1     43\n",
       "dtype: int64"
      ]
     },
     "execution_count": 40,
     "metadata": {},
     "output_type": "execute_result"
    }
   ],
   "source": [
    "# In[35]:\n",
    "\n",
    "\n",
    "numbers_series[bools]\n",
    "\n",
    "\n",
    "# In[36]:"
   ]
  },
  {
   "cell_type": "code",
   "execution_count": 41,
   "id": "84583fb1",
   "metadata": {},
   "outputs": [
    {
     "data": {
      "text/plain": [
       "1     2\n",
       "3     4\n",
       "5     6\n",
       "7     8\n",
       "8     9\n",
       "9    10\n",
       "dtype: int64"
      ]
     },
     "execution_count": 41,
     "metadata": {},
     "output_type": "execute_result"
    }
   ],
   "source": [
    "numbers_series[numbers_series > 40]\n",
    "\n",
    "\n",
    "# ## Compound Statements with Series\n",
    "\n",
    "# In[40]:\n",
    "\n",
    "\n",
    "x = pd.Series([1, 2, 3, 4, 5, 6, 7, 8, 9, 10])\n",
    "\n",
    "x[(x % 2 == 0) | (x > 7)]"
   ]
  },
  {
   "cell_type": "code",
   "execution_count": 42,
   "id": "69a625e1",
   "metadata": {},
   "outputs": [
    {
     "data": {
      "text/plain": [
       "7     8\n",
       "9    10\n",
       "dtype: int64"
      ]
     },
     "execution_count": 42,
     "metadata": {},
     "output_type": "execute_result"
    }
   ],
   "source": [
    "# In[41]:\n",
    "\n",
    "\n",
    "x[(x % 2 == 0) & (x > 7)]"
   ]
  },
  {
   "cell_type": "markdown",
   "id": "a80264a1",
   "metadata": {},
   "source": [
    "## More series attributes\n",
    "\n",
    "### .STR manipulation"
   ]
  },
  {
   "cell_type": "code",
   "execution_count": 43,
   "id": "5fb910b1",
   "metadata": {},
   "outputs": [
    {
     "data": {
      "text/plain": [
       "0       Hello\n",
       "1      CodeuP\n",
       "2    StUDenTs\n",
       "dtype: object"
      ]
     },
     "execution_count": 43,
     "metadata": {},
     "output_type": "execute_result"
    }
   ],
   "source": [
    "string_series = pd.Series(['Hello', 'CodeuP', 'StUDenTs'])\n",
    "string_series\n",
    "\n",
    "\n",
    "# In[44]:"
   ]
  },
  {
   "cell_type": "code",
   "execution_count": 44,
   "id": "fa36bc96",
   "metadata": {},
   "outputs": [
    {
     "data": {
      "text/plain": [
       "0       hello\n",
       "1      codeup\n",
       "2    students\n",
       "dtype: object"
      ]
     },
     "execution_count": 44,
     "metadata": {},
     "output_type": "execute_result"
    }
   ],
   "source": [
    "string_series.str.lower()"
   ]
  },
  {
   "cell_type": "code",
   "execution_count": 45,
   "id": "a41bf17c",
   "metadata": {},
   "outputs": [
    {
     "data": {
      "text/plain": [
       "0       H_llo\n",
       "1      Cod_uP\n",
       "2    StUD_nTs\n",
       "dtype: object"
      ]
     },
     "execution_count": 45,
     "metadata": {},
     "output_type": "execute_result"
    }
   ],
   "source": [
    "# In[45]:\n",
    "\n",
    "\n",
    "string_series.str.replace('e', '_')"
   ]
  },
  {
   "cell_type": "code",
   "execution_count": 46,
   "id": "54723673",
   "metadata": {},
   "outputs": [
    {
     "data": {
      "text/plain": [
       "0       h_llo\n",
       "1      cod_up\n",
       "2    stud_nts\n",
       "dtype: object"
      ]
     },
     "execution_count": 46,
     "metadata": {},
     "output_type": "execute_result"
    }
   ],
   "source": [
    "# In[46]:\n",
    "\n",
    "\n",
    "string_series.str.lower().str.replace('e', '_')"
   ]
  },
  {
   "cell_type": "code",
   "execution_count": 47,
   "id": "21875c93",
   "metadata": {},
   "outputs": [
    {
     "data": {
      "text/plain": [
       "0       Hello\n",
       "1      CodeuP\n",
       "2    StUDenTs\n",
       "dtype: object"
      ]
     },
     "execution_count": 47,
     "metadata": {},
     "output_type": "execute_result"
    }
   ],
   "source": [
    "# In[47]:\n",
    "\n",
    "\n",
    "string_series"
   ]
  },
  {
   "cell_type": "code",
   "execution_count": 48,
   "id": "d6b8b6bf",
   "metadata": {},
   "outputs": [
    {
     "data": {
      "text/plain": [
       "0     True\n",
       "1    False\n",
       "2    False\n",
       "dtype: bool"
      ]
     },
     "execution_count": 48,
     "metadata": {},
     "output_type": "execute_result"
    }
   ],
   "source": [
    "# In[49]:\n",
    "\n",
    "\n",
    "string_series.str.lower().str.startswith('h')"
   ]
  },
  {
   "cell_type": "code",
   "execution_count": 49,
   "id": "4d31d224",
   "metadata": {},
   "outputs": [
    {
     "data": {
      "text/plain": [
       "0    Hello\n",
       "dtype: object"
      ]
     },
     "execution_count": 49,
     "metadata": {},
     "output_type": "execute_result"
    }
   ],
   "source": [
    "# In[50]:\n",
    "\n",
    "\n",
    "string_series[string_series.str.lower().str.startswith('h')]"
   ]
  },
  {
   "cell_type": "markdown",
   "id": "b8d6ef30",
   "metadata": {},
   "source": [
    "## .any, .all"
   ]
  },
  {
   "cell_type": "code",
   "execution_count": 1,
   "id": "8040f012",
   "metadata": {},
   "outputs": [
    {
     "ename": "NameError",
     "evalue": "name 'numbers_series' is not defined",
     "output_type": "error",
     "traceback": [
      "\u001b[0;31m---------------------------------------------------------------------------\u001b[0m",
      "\u001b[0;31mNameError\u001b[0m                                 Traceback (most recent call last)",
      "\u001b[0;32m/var/folders/3n/86q7c8d16r51w8vg4g5kwq280000gn/T/ipykernel_38414/1833423238.py\u001b[0m in \u001b[0;36m<module>\u001b[0;34m\u001b[0m\n\u001b[0;32m----> 1\u001b[0;31m \u001b[0mnumbers_series\u001b[0m \u001b[0;34m<\u001b[0m \u001b[0;36m0\u001b[0m\u001b[0;34m\u001b[0m\u001b[0;34m\u001b[0m\u001b[0m\n\u001b[0m",
      "\u001b[0;31mNameError\u001b[0m: name 'numbers_series' is not defined"
     ]
    }
   ],
   "source": [
    "numbers_series < 0"
   ]
  },
  {
   "cell_type": "code",
   "execution_count": 50,
   "id": "15a1f52b",
   "metadata": {},
   "outputs": [
    {
     "data": {
      "text/plain": [
       "False"
      ]
     },
     "execution_count": 50,
     "metadata": {},
     "output_type": "execute_result"
    }
   ],
   "source": [
    "(numbers_series < 0).any()\n",
    "\n",
    "\n",
    "\n",
    "\n",
    "(numbers_series < 0).all()"
   ]
  },
  {
   "cell_type": "code",
   "execution_count": 51,
   "id": "558b1f09",
   "metadata": {},
   "outputs": [
    {
     "data": {
      "text/plain": [
       "True"
      ]
     },
     "execution_count": 51,
     "metadata": {},
     "output_type": "execute_result"
    }
   ],
   "source": [
    "# In[58]:\n",
    "\n",
    "\n",
    "string_series.str.lower().str.startswith('h').any()"
   ]
  },
  {
   "cell_type": "markdown",
   "id": "dd4140b0",
   "metadata": {},
   "source": [
    "## .isin"
   ]
  },
  {
   "cell_type": "code",
   "execution_count": 52,
   "id": "a1e90b11",
   "metadata": {},
   "outputs": [
    {
     "data": {
      "text/plain": [
       "['a', 'e', 'i', 'o', 'u']"
      ]
     },
     "execution_count": 52,
     "metadata": {},
     "output_type": "execute_result"
    }
   ],
   "source": [
    "\n",
    "\n",
    "vowels = list('aeiou')\n",
    "vowels"
   ]
  },
  {
   "cell_type": "code",
   "execution_count": 53,
   "id": "374bfa7b",
   "metadata": {},
   "outputs": [
    {
     "data": {
      "text/plain": [
       "['a', 'b', 'c', 'd', 'e', 'f', 'g', 'h', 'i', 'j', 'k']"
      ]
     },
     "execution_count": 53,
     "metadata": {},
     "output_type": "execute_result"
    }
   ],
   "source": [
    "# In[60]:\n",
    "\n",
    "\n",
    "letters = list('abcdefghijk')\n",
    "letters"
   ]
  },
  {
   "cell_type": "code",
   "execution_count": 54,
   "id": "6f19f648",
   "metadata": {},
   "outputs": [
    {
     "data": {
      "text/plain": [
       "0     a\n",
       "1     b\n",
       "2     c\n",
       "3     d\n",
       "4     e\n",
       "5     f\n",
       "6     g\n",
       "7     h\n",
       "8     i\n",
       "9     j\n",
       "10    k\n",
       "dtype: object"
      ]
     },
     "execution_count": 54,
     "metadata": {},
     "output_type": "execute_result"
    }
   ],
   "source": [
    "# In[61]:\n",
    "\n",
    "\n",
    "letters_series = pd.Series(letters)\n",
    "letters_series"
   ]
  },
  {
   "cell_type": "code",
   "execution_count": 55,
   "id": "a13a0d0b",
   "metadata": {},
   "outputs": [
    {
     "data": {
      "text/plain": [
       "0      True\n",
       "1     False\n",
       "2     False\n",
       "3     False\n",
       "4      True\n",
       "5     False\n",
       "6     False\n",
       "7     False\n",
       "8      True\n",
       "9     False\n",
       "10    False\n",
       "dtype: bool"
      ]
     },
     "execution_count": 55,
     "metadata": {},
     "output_type": "execute_result"
    }
   ],
   "source": [
    "# In[62]:\n",
    "\n",
    "\n",
    "letters_series.isin(vowels)"
   ]
  },
  {
   "cell_type": "code",
   "execution_count": 56,
   "id": "5777bf8d",
   "metadata": {},
   "outputs": [
    {
     "data": {
      "text/plain": [
       "0    a\n",
       "4    e\n",
       "8    i\n",
       "dtype: object"
      ]
     },
     "execution_count": 56,
     "metadata": {},
     "output_type": "execute_result"
    }
   ],
   "source": [
    "# In[64]:\n",
    "\n",
    "\n",
    "letters_series[letters_series.isin(vowels)]\n",
    "\n",
    "\n",
    "# ## .apply >> use the functions you previously built"
   ]
  },
  {
   "cell_type": "code",
   "execution_count": null,
   "id": "31c1a508",
   "metadata": {},
   "outputs": [],
   "source": [
    "# In[65]:\n",
    "\n",
    "\n",
    "def even_or_odd(n):\n",
    "    '''\n",
    "    A function that takes a number and returns a string indicating whether the passed number is even or odd.\n",
    "    \n",
    "    >>> even_or_odd(3)\n",
    "    'odd'\n",
    "    >>> even_or_odd(2)\n",
    "    'even'\n",
    "    '''\n",
    "    if n % 2 == 0:\n",
    "        return 'even'\n",
    "    else:\n",
    "        return 'odd'"
   ]
  },
  {
   "cell_type": "markdown",
   "id": "d17a196c",
   "metadata": {},
   "source": [
    "## Binning Data"
   ]
  },
  {
   "cell_type": "markdown",
   "id": "cebc20fc",
   "metadata": {},
   "source": [
    "## Plotting Data"
   ]
  },
  {
   "cell_type": "markdown",
   "id": "9698d5ca",
   "metadata": {},
   "source": [
    "### .plot method"
   ]
  },
  {
   "cell_type": "code",
   "execution_count": 58,
   "id": "59cc547b",
   "metadata": {},
   "outputs": [
    {
     "data": {
      "image/png": "[encoded data removed]",
      "text/plain": [
       "<Figure size 432x288 with 1 Axes>"
      ]
     },
     "metadata": {
      "needs_background": "light"
     },
     "output_type": "display_data"
    }
   ],
   "source": [
    "# In[70]:\n",
    "\n",
    "\n",
    "nums_series = pd.Series([1, 5, 5, 5, 10, 20, 100, 40])\n",
    "nums_series.plot()\n",
    "\n",
    "##within pandas\n",
    "\n",
    "plt.show()"
   ]
  },
  {
   "cell_type": "code",
   "execution_count": 59,
   "id": "5abd01b8",
   "metadata": {},
   "outputs": [
    {
     "data": {
      "image/png": "[encoded data removed]",
      "text/plain": [
       "<Figure size 432x288 with 1 Axes>"
      ]
     },
     "metadata": {
      "needs_background": "light"
     },
     "output_type": "display_data"
    }
   ],
   "source": [
    "# In[71]:\n",
    "\n",
    "\n",
    "# So, here we specify the type of plot we would like Matplotlib to use.\n",
    "nums_series.plot.hist()\n",
    "\n",
    "plt.show()"
   ]
  },
  {
   "cell_type": "code",
   "execution_count": 60,
   "id": "844987d0",
   "metadata": {},
   "outputs": [
    {
     "data": {
      "image/png": "[encoded data removed]",
      "text/plain": [
       "<Figure size 432x288 with 1 Axes>"
      ]
     },
     "metadata": {
      "needs_background": "light"
     },
     "output_type": "display_data"
    }
   ],
   "source": [
    "# In[72]:\n",
    "\n",
    "\n",
    "# Construct the Series.\n",
    "lets_series = pd.Series(['a', 'b', 'a', 'c', 'b', 'a', 'd', 'a'])\n",
    "\n",
    "# Plot the value_counts of our Series. Rotate our x-tick values.\n",
    "lets_series.value_counts().plot.bar(rot=0)\n",
    "\n",
    "plt.show()"
   ]
  },
  {
   "cell_type": "code",
   "execution_count": null,
   "id": "ee434fb4",
   "metadata": {},
   "outputs": [],
   "source": [
    "# In[ ]:"
   ]
  }
 ],
 "metadata": {
  "kernelspec": {
   "display_name": "Python 3 (ipykernel)",
   "language": "python",
   "name": "python3"
  },
  "language_info": {
   "codemirror_mode": {
    "name": "ipython",
    "version": 3
   },
   "file_extension": ".py",
   "mimetype": "text/x-python",
   "name": "python",
   "nbconvert_exporter": "python",
   "pygments_lexer": "ipython3",
   "version": "3.9.7"
  }
 },
 "nbformat": 4,
 "nbformat_minor": 5
}
